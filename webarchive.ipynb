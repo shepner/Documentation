{
 "cells": [
  {
   "cell_type": "code",
   "execution_count": 5,
   "metadata": {},
   "outputs": [
    {
     "name": "stdout",
     "output_type": "stream",
     "text": [
      "--2019-11-12 07:03:25--  https://www.google.com/\n",
      "Resolving www.google.com (www.google.com)... 2607:f8b0:4009:812::2004, 172.217.4.68\n",
      "Connecting to www.google.com (www.google.com)|2607:f8b0:4009:812::2004|:443... connected.\n",
      "HTTP request sent, awaiting response... 200 OK\n",
      "Length: unspecified [text/html]\n",
      "Saving to: ‘index.html’\n",
      "\n",
      "index.html              [ <=>                ]  11.47K  --.-KB/s    in 0s      \n",
      "\n",
      "2019-11-12 07:03:25 (39.1 MB/s) - ‘index.html’ saved [11744]\n",
      "\n"
     ]
    }
   ],
   "source": [
    "!wget https://www.google.com"
   ]
  },
  {
   "cell_type": "code",
   "execution_count": 10,
   "metadata": {},
   "outputs": [
    {
     "data": {
      "text/plain": [
       "CompletedProcess(args=['wget', 'https://www.google.com'], returncode=0)"
      ]
     },
     "execution_count": 10,
     "metadata": {},
     "output_type": "execute_result"
    }
   ],
   "source": [
    "\n",
    "#https://docs.python.org/3.5/library/subprocess.html#module-subprocess\n",
    "\n",
    "import subprocess\n",
    "subprocess.run(['wget', 'https://www.google.com'])"
   ]
  },
  {
   "cell_type": "code",
   "execution_count": 15,
   "metadata": {},
   "outputs": [
    {
     "data": {
      "text/plain": [
       "CompletedProcess(args=['wget', '-e', 'robots=off', '--mirror', '--page-requisites', '--waitretry', '5', '--timeout', '60', '--tries', '5', '--wait', '1', '--warc-header', '\"operator: Archive Team\"', '--warc-cdx', '--warc-file=http://www.archiveteam.org/', '-U', 'Mozilla/5.0 (Windows; U; Windows NT 6.1; en-US) AppleWebKit/533.20.25 (KHTML, like Gecko) Version/5.0.4 Safari/533.20.27', 'http://www.archiveteam.org/'], returncode=1)"
      ]
     },
     "execution_count": 15,
     "metadata": {},
     "output_type": "execute_result"
    }
   ],
   "source": [
    "#https://www.archiveteam.org/index.php?title=Wget#Creating_WARC_with_wget\n",
    "USER_AGENT=\"Mozilla/5.0 (Windows; U; Windows NT 6.1; en-US) AppleWebKit/533.20.25 (KHTML, like Gecko) Version/5.0.4 Safari/533.20.27\"\n",
    "SAVE_HOST=\"http://www.archiveteam.org/\"\n",
    "WARC_NAME=SAVE_HOST\n",
    "\n",
    "subprocess.run([\n",
    "    'wget',\n",
    "    '-e', 'robots=off',\n",
    "    '--mirror',\n",
    "    '--page-requisites',\n",
    "    '--waitretry', '5',\n",
    "    '--timeout', '60',\n",
    "    '--tries', '5',\n",
    "    '--wait', '1',\n",
    "    '--warc-header', '\"operator: Archive Team\"',\n",
    "    '--warc-cdx',\n",
    "    '--warc-file='+WARC_NAME,\n",
    "    '-U', USER_AGENT,\n",
    "    SAVE_HOST\n",
    "])"
   ]
  },
  {
   "cell_type": "code",
   "execution_count": 16,
   "metadata": {},
   "outputs": [
    {
     "name": "stdout",
     "output_type": "stream",
     "text": [
      "Opening WARC file ‘at.warc’.\n",
      "\n",
      "--2019-11-12 07:30:55--  http://www.archiveteam.org/\n",
      "Resolving www.archiveteam.org (www.archiveteam.org)... 204.109.60.27\n",
      "Connecting to www.archiveteam.org (www.archiveteam.org)|204.109.60.27|:80... connected.\n",
      "HTTP request sent, awaiting response... 302 Found\n",
      "Location: https://www.archiveteam.org/ [following]\n",
      "\n",
      "     0K                                                       100% 19.6M=0s\n",
      "\n",
      "--2019-11-12 07:30:55--  https://www.archiveteam.org/\n",
      "Connecting to www.archiveteam.org (www.archiveteam.org)|204.109.60.27|:443... connected.\n",
      "HTTP request sent, awaiting response... 200 OK\n",
      "Length: unspecified [text/html]\n",
      "Saving to: ‘index.html’\n",
      "\n",
      "     0K .......... .......... .......... .....                  488K=0.07s\n",
      "\n",
      "2019-11-12 07:30:55 (488 KB/s) - ‘index.html’ saved [36276]\n",
      "\n"
     ]
    }
   ],
   "source": [
    "!wget \"http://www.archiveteam.org/\" --warc-file=\"at\""
   ]
  },
  {
   "cell_type": "code",
   "execution_count": null,
   "metadata": {},
   "outputs": [],
   "source": [
    "#https://www.archiveteam.org/index.php?title=Wget_with_WARC_output\n",
    "\n",
    "--warc-file=FILENAME\n",
    "--warc-max-size=NUMBER\n",
    "--warc-header=STRING\n",
    "--warc-cdx=FILENAME\n",
    "--warc-dedup=FILENAME\n",
    "--warc-tempdir=DIRECTORY"
   ]
  }
 ],
 "metadata": {
  "kernelspec": {
   "display_name": "Python 3",
   "language": "python",
   "name": "python3"
  },
  "language_info": {
   "codemirror_mode": {
    "name": "ipython",
    "version": 3
   },
   "file_extension": ".py",
   "mimetype": "text/x-python",
   "name": "python",
   "nbconvert_exporter": "python",
   "pygments_lexer": "ipython3",
   "version": "3.6.8"
  }
 },
 "nbformat": 4,
 "nbformat_minor": 4
}
