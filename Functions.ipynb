{
 "cells": [
  {
   "cell_type": "markdown",
   "metadata": {},
   "source": [
    "# Purpose"
   ]
  },
  {
   "cell_type": "markdown",
   "metadata": {},
   "source": [
    "This is a collection of general purpose functions"
   ]
  },
  {
   "cell_type": "markdown",
   "metadata": {},
   "source": [
    "# Discussion"
   ]
  },
  {
   "cell_type": "markdown",
   "metadata": {},
   "source": [
    "this assumes that\n",
    "* aws credentials have been previously setup\n",
    "* Boto3 has been installed:  `pip3 install boto3`"
   ]
  },
  {
   "cell_type": "markdown",
   "metadata": {
    "toc-hr-collapsed": false
   },
   "source": [
    "# Functions"
   ]
  },
  {
   "cell_type": "markdown",
   "metadata": {},
   "source": [
    "## yamlDump()\n",
    "\n",
    "read in a python data structure and return it in YAML format\n",
    "\n",
    "`results = yamlDump(dataDict)`\n",
    "\n",
    "* data: Python dictionary or OrderdDictionary containing YAML data\n",
    "* results: YAML as a string"
   ]
  },
  {
   "cell_type": "code",
   "execution_count": 1,
   "metadata": {},
   "outputs": [],
   "source": [
    "#read in a python data structure and return it in YAML format\n",
    "#results = yamlDump(dataDict)\n",
    "#data: Python dictionary or OrderdDictionary containing YAML data\n",
    "#results: YAML as a string\n",
    "#noVer: dont print the YAML version\n",
    "\n",
    "def yamlDump (data, noVer=False):\n",
    "    from ruamel.yaml import YAML #[ruamel.yaml documentation](https://yaml.readthedocs.io/en/latest/index.html)\n",
    "    yaml = YAML()\n",
    "\n",
    "    #define the output format\n",
    "    if noVer == False:\n",
    "        yaml.version = (1, 2) #https://yaml.readthedocs.io/en/latest/detail.html#document-version-support\n",
    "    yaml.default_flow_style = False #https://yaml.readthedocs.io/en/latest/basicuse.html#basic-usage\n",
    "    yaml.indent(mapping=2, sequence=4, offset=2) #https://yaml.readthedocs.io/en/latest/detail.html#indentation-of-block-sequences\n",
    "    #yaml.top_level_colon_align = True #https://yaml.readthedocs.io/en/latest/detail.html#positioning-in-top-level-mappings-prefixing\n",
    "    yaml.explicit_start=True #guessed from: https://pyyaml.org/wiki/PyYAMLDocumentation\n",
    "    yaml.explicit_end=True #guessed from: https://pyyaml.org/wiki/PyYAMLDocumentation\n",
    "    yaml.sort_keys=False #guessed from: [sort_keys=False](https://stackoverflow.com/a/55171433/12400492)\n",
    "\n",
    "    from io import StringIO\n",
    "\n",
    "    old_stdout = sys.stdout #save the original stdout\n",
    "    sys.stdout = mystdout = StringIO() #redirect stdout\n",
    "    yaml.dump(data, sys.stdout) #dump YAML to stdout\n",
    "    sys.stdout = old_stdout #restore stdout\n",
    "\n",
    "    return mystdout.getvalue() #return the YAML structure"
   ]
  },
  {
   "cell_type": "markdown",
   "metadata": {},
   "source": [
    "## increaseHeaderLevel()\n",
    "\n",
    "Look for MD header levels and increase them by the indicated amount.  Assumes that \"H1 = '#'\" and if it is to be decreased by 2 levels, the result would be H3 ('###')\n",
    "\n",
    "`results = increaseHeaderLevel (mdText, addlLevels)`\n",
    "\n",
    "* mdText: string containing MarkDown text\n",
    "* addlLevels: int for how many levels to decrease\n",
    "* results: resulting string of MarkDown text"
   ]
  },
  {
   "cell_type": "code",
   "execution_count": null,
   "metadata": {},
   "outputs": [],
   "source": [
    "def increaseHeaderLevel (mdText, addlLevels):\n",
    "    import re\n",
    "    \n",
    "    if addlLevels > 0:\n",
    "        string = \"#\"\n",
    "        \n",
    "        #add the appropriate number of `#`s to the string\n",
    "        x = 1\n",
    "        while x < addlLevels:\n",
    "            string = string + '#'\n",
    "            x += 1\n",
    "            \n",
    "        mdText = re.sub ('^#', string, mdText, flags=re.MULTILINE) #substitute the old string with the new one\n",
    "    return (mdText)"
   ]
  },
  {
   "cell_type": "markdown",
   "metadata": {},
   "source": [
    "## fileNamePart()\n",
    "\n",
    "#generate all the file name permutations we may need\n",
    "\n",
    "`results = createFileInfo (fileID)`\n",
    "\n",
    "* fileID: The document's ID (UUIDv4)\n",
    "* results: Dictionary with the following\n",
    "  * results[base_name]: the base name (document UUID)\n",
    "  * results[file_prefix]: generate the prefix (the path based upon the documentID)\n",
    "  * results[file_suffix]: set the file suffix (extension)\n",
    "  * results[file_name]: generate the full filename (documentID + extension)\n",
    "  * results[key_name]: generate the full key (path + full filename)"
   ]
  },
  {
   "cell_type": "code",
   "execution_count": 3,
   "metadata": {},
   "outputs": [],
   "source": [
    "def fileNamePart (fileID):\n",
    "    document={}\n",
    "\n",
    "    #the base name (document UUID)\n",
    "    document['base_name']=fileID\n",
    "    #print(\"document['base_name']=\"+document['base_name'])\n",
    "\n",
    "    #generate the prefix (the path based upon the documentID)\n",
    "    import re\n",
    "    #couldnt get `re.sub()` to cooperate so did this instead\n",
    "    document['file_prefix'] = ''\n",
    "    for part in document['base_name'].split('-'):\n",
    "        document['file_prefix'] += re.search('^.{2}', part).group(0) + '/' #match the first 2 chars and output the first match\n",
    "    #print(\"document['file_prefix']=\"+document['file_prefix'])\n",
    "    \n",
    "    #generate the prefix+base name (this is the subdir we will use for other files)\n",
    "    document['dir']=document['file_prefix']+document['base_name']\n",
    "    print (\"document['dir']=\"+document['dir'])\n",
    "\n",
    "    #set the file suffix (extension)\n",
    "    document['file_suffix']='.ymal'\n",
    "    #print(\"document['file_suffix']=\"+document['file_suffix'])\n",
    "\n",
    "    #generate the full filename (documentID + extension)\n",
    "    document['file_name']=document['base_name']+document['file_suffix']\n",
    "    #print(\"document['file_name']=\"+document['file_name'])\n",
    "\n",
    "    #generate the full key (path + full filename)\n",
    "    document['key_name']=document['file_prefix']+document['file_name']\n",
    "    #print(\"document['key_name']=\"+document['key_name'])\n",
    "\n",
    "    return (document)"
   ]
  },
  {
   "cell_type": "markdown",
   "metadata": {},
   "source": [
    "## is_valid_uuid()\n",
    "\n",
    "determine if the string is a valid UUID (defaulting to UUIDv4)\n",
    "\n",
    "`results = is_valid_uuid(uuid_to_test, version=4)`\n",
    "\n",
    "* uuid_to_test: text string\n",
    "* version: version number to test for\n",
    "* results: boolean"
   ]
  },
  {
   "cell_type": "code",
   "execution_count": 4,
   "metadata": {},
   "outputs": [],
   "source": [
    "#From:  https://stackoverflow.com/questions/19989481/how-to-determine-if-a-string-is-a-valid-v4-uuid\n",
    "\n",
    "\"\"\"\n",
    "Check if uuid_to_test is a valid UUID.\n",
    "\n",
    "Parameters\n",
    "----------\n",
    "uuid_to_test : str\n",
    "version : {1, 2, 3, 4}\n",
    "\n",
    "Returns\n",
    "-------\n",
    "`True` if uuid_to_test is a valid UUID, otherwise `False`.\n",
    "\n",
    "Examples\n",
    "--------\n",
    ">>> is_valid_uuid('c9bf9e57-1685-4c89-bafb-ff5af830be8a')\n",
    "True\n",
    ">>> is_valid_uuid('c9bf9e58')\n",
    "False\n",
    "\"\"\"\n",
    "\n",
    "def is_valid_uuid(uuid_to_test, version=4):\n",
    "    from uuid import UUID\n",
    "    \n",
    "    try:\n",
    "        uuid_obj = UUID(uuid_to_test, version=version)\n",
    "    except ValueError:\n",
    "        return False\n",
    "\n",
    "    return str(uuid_obj) == uuid_to_test"
   ]
  },
  {
   "cell_type": "markdown",
   "metadata": {},
   "source": [
    "## createPandocHeader()\n",
    "\n",
    "Generate a Pandoc header in YAML format\n",
    "\n",
    "`results = createPandocHeader (srcData)`\n",
    "\n",
    "* srcData: OrderdDictionary containing the YAML document\n",
    "* results: YAML data as a string"
   ]
  },
  {
   "cell_type": "code",
   "execution_count": 2,
   "metadata": {},
   "outputs": [],
   "source": [
    "def createPandocHeader (srcData):\n",
    "    \n",
    "    #these are the header fields that we want to use\n",
    "    keys=[\n",
    "        \"title\",\n",
    "        \"author\",\n",
    "        \"abstract\",\n",
    "        \"lang\"\n",
    "    ]\n",
    "    \n",
    "    header = {} #temp structure to use\n",
    "    for key in keys:\n",
    "        if srcData.get(key) != None: #from [here](https://thispointer.com/python-how-to-check-if-a-key-exists-in-dictionary/)\n",
    "            header[key] = srcData[key]\n",
    "            \n",
    "    return yamlDump(header, noVer=True) #Pandoc doesnt correctly handle the `%YAML <ver>` header"
   ]
  },
  {
   "cell_type": "markdown",
   "metadata": {},
   "source": [
    "## createMarkDownDocument()\n",
    "\n",
    "recursively walks the YAML structure and generates a MarkDown document\n",
    "\n",
    "`results = createMarkDownDocument (srcData, depth)`\n",
    "* srcData: OrderdDictionary containing the YAML document\n",
    "* depth: offset from the listed markdown header level\n",
    "* results: markdown formatted data as a string\n",
    "* bucket: the S3 bucket\n",
    "* directory: This is the directory to look in for the non-UUIDv4 references"
   ]
  },
  {
   "cell_type": "code",
   "execution_count": null,
   "metadata": {},
   "outputs": [],
   "source": [
    "def createMarkDownDocument (bucket, directory, srcData, depth):\n",
    "    document=''\n",
    "\n",
    "    if isinstance(srcData['body'], list):\n",
    "        print ('List detected')\n",
    "        \n",
    "        for element in srcData:\n",
    "            \n",
    "            if isinstance(element, list) or isinstance(element, dict):\n",
    "                print ('Structure detected - recursing')\n",
    "                results += generateDocumentBody (element, depth+1) #walk the next level down and increase the header depth\n",
    "                \n",
    "            elif re.search('.md$', element, flags=re.IGNORECASE):\n",
    "                print ('MarkDown: ' + element)\n",
    "\n",
    "                #read in the content\n",
    "                %run \"Functions_S3.ipynb\" # `downloadTextFile()` is located here\n",
    "                results = downloadTextFile (bucket, fileNamePart(srcData['id'])['dir']+'/'+element)\n",
    "                \n",
    "            elif re.search('.yaml$', element, flags=re.IGNORECASE):\n",
    "                print ('YAML: ' + element)\n",
    "                #process the file\n",
    "                \n",
    "            elif is_valid_uuid(element):\n",
    "                print ('UUIDv4: ' + element)\n",
    "                #go find the file and then process the file\n",
    "                \n",
    "            else: #No idea what this is. Assuming its MD text\n",
    "                print ('unknown: ' + element)\n",
    "                results += element #assuming that if you are manually entering MD then you can control the formatting too\n",
    "                \n",
    "            document += '\\n\\n'\n",
    "                  \n",
    "    elif isinstance(srcData['body'], dict):\n",
    "        print ('Dict detected')\n",
    "        \n",
    "    else:\n",
    "        #print ('markdown:  no structure')\n",
    "        document += srcData['body']\n",
    "        \n",
    "    return (document)"
   ]
  },
  {
   "cell_type": "markdown",
   "metadata": {},
   "source": [
    "## compilePandocDocument()\n",
    "\n",
    "Convenient packaging to create the Pandoc file contents\n",
    "\n",
    "`results = compileDocument (srcData)`\n",
    "\n",
    "* results: the full Pandoc formatted document as a string\n",
    "* srcData: OrderdDictionary containing the YAML document\n",
    "* bucketName: the S3 bucket\n",
    "* directory: This is the directory to look in for the non-UUIDv4 references"
   ]
  },
  {
   "cell_type": "code",
   "execution_count": null,
   "metadata": {},
   "outputs": [],
   "source": [
    "def compilePandocDocument (bucketName, directory, srcData):\n",
    "    document = createPandocHeader (srcData)\n",
    "    document += createMarkDownDocument (bucketName, directory, srcData, 0)\n",
    "    return (document)"
   ]
  }
 ],
 "metadata": {
  "kernelspec": {
   "display_name": "Python 3",
   "language": "python",
   "name": "python3"
  },
  "language_info": {
   "codemirror_mode": {
    "name": "ipython",
    "version": 3
   },
   "file_extension": ".py",
   "mimetype": "text/x-python",
   "name": "python",
   "nbconvert_exporter": "python",
   "pygments_lexer": "ipython3",
   "version": "3.6.8"
  },
  "toc-autonumbering": true
 },
 "nbformat": 4,
 "nbformat_minor": 4
}
