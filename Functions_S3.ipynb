{
 "cells": [
  {
   "cell_type": "markdown",
   "metadata": {},
   "source": [
    "# Purpose"
   ]
  },
  {
   "cell_type": "markdown",
   "metadata": {},
   "source": [
    "This is a collection of functions specific to AWS S3 using boto3"
   ]
  },
  {
   "cell_type": "markdown",
   "metadata": {},
   "source": [
    "# Discussion"
   ]
  },
  {
   "cell_type": "markdown",
   "metadata": {},
   "source": [
    "this assumes that\n",
    "* aws credentials have been previously setup\n",
    "* Boto3 has been installed:  `pip3 install boto3`\n",
    "* The following has been loaded globally:\n",
    "  ``` python\n",
    "import boto3\n",
    "s3 = boto3.resource('s3')\n",
    "```"
   ]
  },
  {
   "cell_type": "markdown",
   "metadata": {
    "toc-hr-collapsed": false
   },
   "source": [
    "# Functions"
   ]
  },
  {
   "cell_type": "raw",
   "metadata": {},
   "source": [
    "import boto3\n",
    "s3 = boto3.resource('s3')"
   ]
  },
  {
   "cell_type": "markdown",
   "metadata": {},
   "source": [
    "## create_bucket(bucket_name, s3_resource)\n",
    "\n",
    "`bucket_create_response = create_bucket(bucket_name, s3_resource)`"
   ]
  },
  {
   "cell_type": "code",
   "execution_count": null,
   "metadata": {},
   "outputs": [],
   "source": [
    "def create_bucket(bucket_name, s3_resource):\n",
    "    return s3_resource.create_bucket(Bucket=bucket_name)"
   ]
  },
  {
   "cell_type": "markdown",
   "metadata": {},
   "source": [
    "## searching for files\n",
    "\n",
    "`get_matching_s3_objects(bucket, prefix=\"\", suffix=\"\")`\n",
    "\n",
    "`key = get_matching_s3_keys(bucket, prefix=\"\", suffix=\"\")`"
   ]
  },
  {
   "cell_type": "code",
   "execution_count": null,
   "metadata": {},
   "outputs": [],
   "source": [
    "#https://alexwlchan.net/2017/07/listing-s3-keys/\n",
    "#https://alexwlchan.net/2019/07/listing-s3-keys/\n",
    "def get_matching_s3_objects(bucket, prefix=\"\", suffix=\"\"):\n",
    "    \"\"\"\n",
    "    Generate objects in an S3 bucket.\n",
    "\n",
    "    :param bucket: Name of the S3 bucket.\n",
    "    :param prefix: Only fetch objects whose key starts with\n",
    "        this prefix (optional).\n",
    "    :param suffix: Only fetch objects whose keys end with\n",
    "        this suffix (optional).\n",
    "    \"\"\"\n",
    "    s3 = boto3.client(\"s3\")\n",
    "    paginator = s3.get_paginator(\"list_objects_v2\")\n",
    "\n",
    "    kwargs = {'Bucket': bucket}\n",
    "\n",
    "    # We can pass the prefix directly to the S3 API.  If the user has passed\n",
    "    # a tuple or list of prefixes, we go through them one by one.\n",
    "    if isinstance(prefix, str):\n",
    "        prefixes = (prefix, )\n",
    "    else:\n",
    "        prefixes = prefix\n",
    "\n",
    "    for key_prefix in prefixes:\n",
    "        kwargs[\"Prefix\"] = key_prefix\n",
    "\n",
    "        for page in paginator.paginate(**kwargs):\n",
    "            try:\n",
    "                contents = page[\"Contents\"]\n",
    "            except KeyError:\n",
    "                return\n",
    "\n",
    "            for obj in contents:\n",
    "                key = obj[\"Key\"]\n",
    "                if key.endswith(suffix):\n",
    "                    yield obj\n",
    "\n",
    "\n",
    "def get_matching_s3_keys(bucket, prefix=\"\", suffix=\"\"):\n",
    "    \"\"\"\n",
    "    Generate the keys in an S3 bucket.\n",
    "\n",
    "    :param bucket: Name of the S3 bucket.\n",
    "    :param prefix: Only fetch keys that start with this prefix (optional).\n",
    "    :param suffix: Only fetch keys that end with this suffix (optional).\n",
    "    \"\"\"\n",
    "    for obj in get_matching_s3_objects(bucket, prefix, suffix):\n",
    "        yield obj[\"Key\"]\n",
    "\n",
    "#for key in get_matching_s3_keys(bucket='testname.asyla.org', prefix='BlueMarble/', suffix='.jpg'):\n",
    "#    print(key)\n",
    "#print('\\n\\n')\n",
    "#for key in get_matching_s3_keys(bucket='testname.asyla.org', suffix=('.jpg', '.JPG')):\n",
    "#    print(key)"
   ]
  },
  {
   "cell_type": "markdown",
   "metadata": {},
   "source": [
    "## does_key_exist(bucket_name, file_name)\n",
    "\n",
    "`boolean = does_key_exist(bucket_name, file_name)`"
   ]
  },
  {
   "cell_type": "code",
   "execution_count": null,
   "metadata": {},
   "outputs": [],
   "source": [
    "#https://stackoverflow.com/questions/33842944/check-if-a-key-exists-in-a-bucket-in-s3-using-boto3\n",
    "\n",
    "def does_key_exist(bucket_name, file_name):\n",
    "    try:\n",
    "        s3.Object(bucket_name, file_name).load()\n",
    "    except:\n",
    "        #print ('error')\n",
    "        return (False)\n",
    "    else:\n",
    "        #print ('worked')\n",
    "        return (True)"
   ]
  },
  {
   "cell_type": "markdown",
   "metadata": {},
   "source": [
    "## updateDatabase(bucket, filename, recordId, recordData)"
   ]
  },
  {
   "cell_type": "code",
   "execution_count": null,
   "metadata": {},
   "outputs": [],
   "source": [
    "#Update the database file\n",
    "#\n",
    "#This assumes the database\n",
    "#  - resides in S3\n",
    "#  - in YAML format\n",
    "#  - it is a dictionary format\n",
    "#  - and is small enough to reside in RAM\n",
    "\n",
    "def updateDatabase(bucket, filename, recordId, recordData):\n",
    "    from ruamel.yaml import YAML #[ruamel.yaml documentation](https://yaml.readthedocs.io/en/latest/index.html)\n",
    "    yaml = YAML()\n",
    "    \n",
    "    dbContent = {} #create an empty dictionary\n",
    "    \n",
    "    #populate the datastructure with data if there is any data to work with\n",
    "    if does_key_exist(bucket, filename):\n",
    "        #fetch the DB and return it as a string\n",
    "        #https://boto3.amazonaws.com/v1/documentation/api/latest/reference/services/s3.html#S3.Object.get\n",
    "        #https://stackoverflow.com/questions/31976273/open-s3-object-as-a-string-with-boto3#35376156\n",
    "        fileBody = s3.Object(bucket, filename).get()['Body'].read().decode('utf-8') \n",
    "    \n",
    "        dbContent = yaml.load(fileBody) #read the file into an OrderdDictionary\n",
    "        #print (fileData)\n",
    "\n",
    "    dbContent[recordId] = recordData #save the new record to the structure\n",
    "    #print (dbContent)\n",
    "\n",
    "    #https://boto3.amazonaws.com/v1/documentation/api/latest/reference/services/s3.html#S3.Object.put\n",
    "    result = s3.Object(bucket, filename).put( #save the data to a S3 key\n",
    "        ACL='bucket-owner-full-control', #assume that this is not public info\n",
    "        Body=yamlDump(dbContent), #convert the datastructure into YAML\n",
    "        ContentEncoding='utf-8', #its a normal ascii file\n",
    "        ContentType='text/plain' #declare its HTML so the browser will open it\n",
    "    )\n",
    "    \n",
    "    return result"
   ]
  },
  {
   "cell_type": "markdown",
   "metadata": {},
   "source": [
    "## readMarkDownFile\n",
    "\n",
    "Read in a MarkDown file and return it as a string\n",
    "\n",
    "`results = downloadTextFile (bucket, filename)`\n",
    "\n",
    "* bucket: the S3 bucket\n",
    "* filename: the name of the S3 key\n",
    "* results = the file contents as a string"
   ]
  },
  {
   "cell_type": "code",
   "execution_count": null,
   "metadata": {},
   "outputs": [],
   "source": [
    "def downloadTextFile (bucket, filename):\n",
    "    return (s3.Object(bucket, filename).get()['Body'].read().decode('utf-8'))"
   ]
  },
  {
   "cell_type": "markdown",
   "metadata": {},
   "source": [
    "## getKeyURL()\n",
    "\n",
    "`results = getKeyURL(bucket, key)`\n",
    "\n",
    "* results: url as a string\n",
    "* bucket: the S3 bucket\n",
    "* key: name of the S3 key"
   ]
  },
  {
   "cell_type": "code",
   "execution_count": null,
   "metadata": {},
   "outputs": [],
   "source": [
    "#https://boto3.amazonaws.com/v1/documentation/api/latest/guide/s3-presigned-urls.html\n",
    "#note that this is doing more then just fetching the URL\n",
    "#this is promising but is incomplete:  https://stackoverflow.com/a/48197877/12400492\n",
    "\n",
    "def getKeyURL(bucket, key):\n",
    "    url = boto3.client('s3').generate_presigned_url(\n",
    "        'get_object',Params={\n",
    "            'Bucket': bucket,\n",
    "            'Key': key\n",
    "        },\n",
    "        ExpiresIn=60*60*24\n",
    "    )\n",
    "    \n",
    "    #print (url)\n",
    "\n",
    "    return (url.split('?')[0]) #for now, just remove the extra stuff"
   ]
  }
 ],
 "metadata": {
  "kernelspec": {
   "display_name": "Python 3",
   "language": "python",
   "name": "python3"
  },
  "language_info": {
   "codemirror_mode": {
    "name": "ipython",
    "version": 3
   },
   "file_extension": ".py",
   "mimetype": "text/x-python",
   "name": "python",
   "nbconvert_exporter": "python",
   "pygments_lexer": "ipython3",
   "version": "3.6.8"
  },
  "toc-autonumbering": true
 },
 "nbformat": 4,
 "nbformat_minor": 4
}
