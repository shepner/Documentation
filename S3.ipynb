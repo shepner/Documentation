{
 "cells": [
  {
   "cell_type": "markdown",
   "metadata": {},
   "source": [
    "# Purpose"
   ]
  },
  {
   "cell_type": "markdown",
   "metadata": {},
   "source": [
    "This notebook will create a template document containing some basic info within S3"
   ]
  },
  {
   "cell_type": "markdown",
   "metadata": {},
   "source": [
    "# Discussion"
   ]
  },
  {
   "cell_type": "markdown",
   "metadata": {},
   "source": [
    "this assumes that\n",
    "* aws credentials have been previously setup\n",
    "* Boto3 has been installed:  `pip3 install boto3`"
   ]
  },
  {
   "cell_type": "markdown",
   "metadata": {},
   "source": [
    "# Functions"
   ]
  },
  {
   "cell_type": "markdown",
   "metadata": {},
   "source": [
    "## create_bucket(bucket_name, s3_resource)\n",
    "\n",
    "`bucket_create_response = create_bucket(bucket_name, s3_resource)`"
   ]
  },
  {
   "cell_type": "code",
   "execution_count": 1,
   "metadata": {},
   "outputs": [],
   "source": [
    "def create_bucket(bucket_name, s3_resource):\n",
    "    return s3_resource.create_bucket(Bucket=bucket_name)"
   ]
  },
  {
   "cell_type": "markdown",
   "metadata": {},
   "source": [
    "## searching for files\n",
    "\n",
    "`get_matching_s3_objects(bucket, prefix=\"\", suffix=\"\")`\n",
    "\n",
    "`key = get_matching_s3_keys(bucket, prefix=\"\", suffix=\"\")`"
   ]
  },
  {
   "cell_type": "code",
   "execution_count": 2,
   "metadata": {
    "jupyter": {
     "source_hidden": true
    }
   },
   "outputs": [],
   "source": [
    "#https://alexwlchan.net/2017/07/listing-s3-keys/\n",
    "#https://alexwlchan.net/2019/07/listing-s3-keys/\n",
    "\n",
    "import boto3\n",
    "\n",
    "def get_matching_s3_objects(bucket, prefix=\"\", suffix=\"\"):\n",
    "    \"\"\"\n",
    "    Generate objects in an S3 bucket.\n",
    "\n",
    "    :param bucket: Name of the S3 bucket.\n",
    "    :param prefix: Only fetch objects whose key starts with\n",
    "        this prefix (optional).\n",
    "    :param suffix: Only fetch objects whose keys end with\n",
    "        this suffix (optional).\n",
    "    \"\"\"\n",
    "    s3 = boto3.client(\"s3\")\n",
    "    paginator = s3.get_paginator(\"list_objects_v2\")\n",
    "\n",
    "    kwargs = {'Bucket': bucket}\n",
    "\n",
    "    # We can pass the prefix directly to the S3 API.  If the user has passed\n",
    "    # a tuple or list of prefixes, we go through them one by one.\n",
    "    if isinstance(prefix, str):\n",
    "        prefixes = (prefix, )\n",
    "    else:\n",
    "        prefixes = prefix\n",
    "\n",
    "    for key_prefix in prefixes:\n",
    "        kwargs[\"Prefix\"] = key_prefix\n",
    "\n",
    "        for page in paginator.paginate(**kwargs):\n",
    "            try:\n",
    "                contents = page[\"Contents\"]\n",
    "            except KeyError:\n",
    "                return\n",
    "\n",
    "            for obj in contents:\n",
    "                key = obj[\"Key\"]\n",
    "                if key.endswith(suffix):\n",
    "                    yield obj\n",
    "\n",
    "\n",
    "def get_matching_s3_keys(bucket, prefix=\"\", suffix=\"\"):\n",
    "    \"\"\"\n",
    "    Generate the keys in an S3 bucket.\n",
    "\n",
    "    :param bucket: Name of the S3 bucket.\n",
    "    :param prefix: Only fetch keys that start with this prefix (optional).\n",
    "    :param suffix: Only fetch keys that end with this suffix (optional).\n",
    "    \"\"\"\n",
    "    for obj in get_matching_s3_objects(bucket, prefix, suffix):\n",
    "        yield obj[\"Key\"]\n",
    "\n",
    "#for key in get_matching_s3_keys(bucket='testname.asyla.org', prefix='BlueMarble/', suffix='.jpg'):\n",
    "#    print(key)\n",
    "#print('\\n\\n')\n",
    "#for key in get_matching_s3_keys(bucket='testname.asyla.org', suffix=('.jpg', '.JPG')):\n",
    "#    print(key)"
   ]
  },
  {
   "cell_type": "markdown",
   "metadata": {},
   "source": [
    "## does_key_exist(bucket_name, file_name)\n",
    "\n",
    "`boolean = does_key_exist(bucket_name, file_name)`"
   ]
  },
  {
   "cell_type": "code",
   "execution_count": 3,
   "metadata": {
    "jupyter": {
     "source_hidden": true
    }
   },
   "outputs": [],
   "source": [
    "#https://stackoverflow.com/questions/33842944/check-if-a-key-exists-in-a-bucket-in-s3-using-boto3\n",
    "\n",
    "def does_key_exist(bucket_name, file_name):\n",
    "    try:\n",
    "        s3.Object(bucket_name, file_name).load()\n",
    "    except:\n",
    "        #print ('error')\n",
    "        return (False)\n",
    "    else:\n",
    "        #print ('worked')\n",
    "        return (True)"
   ]
  },
  {
   "cell_type": "code",
   "execution_count": null,
   "metadata": {},
   "outputs": [],
   "source": []
  },
  {
   "cell_type": "code",
   "execution_count": null,
   "metadata": {},
   "outputs": [],
   "source": []
  },
  {
   "cell_type": "markdown",
   "metadata": {},
   "source": [
    "# main program"
   ]
  },
  {
   "cell_type": "markdown",
   "metadata": {},
   "source": [
    "## Connect to S3"
   ]
  },
  {
   "cell_type": "code",
   "execution_count": 4,
   "metadata": {},
   "outputs": [],
   "source": [
    "import boto3\n",
    "s3 = boto3.resource('s3')"
   ]
  },
  {
   "cell_type": "code",
   "execution_count": 5,
   "metadata": {},
   "outputs": [
    {
     "name": "stdout",
     "output_type": "stream",
     "text": [
      "bucket_name=documents--88767106-9edc-4028-a451-0da43b669d7f\n"
     ]
    }
   ],
   "source": [
    "#Note that the name of a bucket must be unique to all of S3 DNS namespace\n",
    "#Names can only start with [a-z0-9] but may include [a-z0-9-_./]\n",
    "\n",
    "#bucket_name = 'Documents' #this will fail\n",
    "#bucket_name = create_unique_name('') #this is safer\n",
    "#bucket_name = create_unique_name('documents'+'--'+str(uuid.uuid4())) #this is easier to directly work with\n",
    "\n",
    "bucket_name = 'documents--88767106-9edc-4028-a451-0da43b669d7f' #hardcode this so it doesnt change\n",
    "#bucket_name = 'testname.asyla.org'\n",
    "\n",
    "print('bucket_name='+bucket_name)"
   ]
  },
  {
   "cell_type": "markdown",
   "metadata": {},
   "source": [
    "## Create bucket if needed"
   ]
  },
  {
   "cell_type": "code",
   "execution_count": 6,
   "metadata": {},
   "outputs": [],
   "source": [
    "if s3.Bucket(bucket_name).creation_date is None: #there is no date if it doesnt exist\n",
    "    response = create_bucket(bucket_name, s3)\n",
    "    #print(response)\n",
    "    print ('bucket created')"
   ]
  },
  {
   "cell_type": "markdown",
   "metadata": {},
   "source": [
    "## Create a new yaml file"
   ]
  },
  {
   "cell_type": "markdown",
   "metadata": {},
   "source": [
    "### Create the name"
   ]
  },
  {
   "cell_type": "code",
   "execution_count": 7,
   "metadata": {},
   "outputs": [
    {
     "name": "stdout",
     "output_type": "stream",
     "text": [
      "document['base_name']=6f80a72f-77aa-4969-a505-9348d62f2a5e\n",
      "document['file_prefix']=6f/77/49/a5/93/\n",
      "document['file_suffix']=.ymal\n",
      "document['file_name']=6f80a72f-77aa-4969-a505-9348d62f2a5e.ymal\n",
      "document['key_name']=6f/77/49/a5/93/6f80a72f-77aa-4969-a505-9348d62f2a5e.ymal\n"
     ]
    },
    {
     "data": {
      "text/plain": [
       "{'base_name': '6f80a72f-77aa-4969-a505-9348d62f2a5e',\n",
       " 'file_prefix': '6f/77/49/a5/93/',\n",
       " 'file_suffix': '.ymal',\n",
       " 'file_name': '6f80a72f-77aa-4969-a505-9348d62f2a5e.ymal',\n",
       " 'key_name': '6f/77/49/a5/93/6f80a72f-77aa-4969-a505-9348d62f2a5e.ymal'}"
      ]
     },
     "execution_count": 7,
     "metadata": {},
     "output_type": "execute_result"
    }
   ],
   "source": [
    "#generate all the file name permutations we may need\n",
    "\n",
    "document={}\n",
    "\n",
    "#generate the base name (documentID)\n",
    "import uuid\n",
    "document['base_name']=str(uuid.uuid4())\n",
    "print(\"document['base_name']=\"+document['base_name'])\n",
    "\n",
    "#generate the prefix (the path based upon the documentID)\n",
    "import re\n",
    "#couldnt get `re.sub()` to cooperate so did this instead\n",
    "document['file_prefix'] = ''\n",
    "for part in document['base_name'].split('-'):\n",
    "    document['file_prefix'] += re.search('^.{2}', part).group(0) + '/' #match the first 2 chars and output the first match\n",
    "print(\"document['file_prefix']=\"+document['file_prefix'])\n",
    "\n",
    "#set the file suffix (extension)\n",
    "document['file_suffix']='.ymal'\n",
    "print(\"document['file_suffix']=\"+document['file_suffix'])\n",
    "\n",
    "#generate the full filename (documentID + extension)\n",
    "document['file_name']=document['base_name']+document['file_suffix']\n",
    "print(\"document['file_name']=\"+document['file_name'])\n",
    "\n",
    "#generate the full key (path + full filename)\n",
    "document['key_name']=document['file_prefix']+document['file_name']\n",
    "print(\"document['key_name']=\"+document['key_name'])\n",
    "\n",
    "document"
   ]
  },
  {
   "cell_type": "markdown",
   "metadata": {},
   "source": [
    "### Ensure the file doesnt already exist"
   ]
  },
  {
   "cell_type": "code",
   "execution_count": 8,
   "metadata": {},
   "outputs": [],
   "source": [
    "#make sure the file does not exist\n",
    "#UUIDv4 generates random strings so there is a (small) chance of a duplicate\n",
    "import sys\n",
    "\n",
    "if does_key_exist(bucket_name, document['key_name']):\n",
    "    print ('ERROR: File exists: '+document['key_name'])\n",
    "    sys.exit('ERROR: File exists: '+document['key_name'])"
   ]
  },
  {
   "cell_type": "markdown",
   "metadata": {},
   "source": [
    "### Collect nessessary info"
   ]
  },
  {
   "cell_type": "code",
   "execution_count": 9,
   "metadata": {},
   "outputs": [
    {
     "name": "stdin",
     "output_type": "stream",
     "text": [
      "title: ! \n",
      "subtitle: ! \n",
      "author: ! \n",
      "abstract: ! \n",
      "type: ! # Options: [regulation|policy|standard|guidance|requirement|control|procedure] \n",
      "source: ! \n",
      "classification: public # Options: [public|private|confidential] \n"
     ]
    }
   ],
   "source": [
    "#insert data into `content` in the order it will be written to the file\n",
    "#[Python 3.7+, dicts preserve insertion order](https://stackoverflow.com/a/52268128/12400492)\n",
    "\n",
    "from datetime import date\n",
    "\n",
    "content={}\n",
    "\n",
    "fields=[\n",
    "    {'id': document['base_name']},\n",
    "    {'title': '!'},\n",
    "    {'subtitle': '!'},\n",
    "    {'author': '!'},\n",
    "    {'abstract': '!'},\n",
    "    {'lang': 'en'},\n",
    "    {'type': '! # Options: [regulation|policy|standard|guidance|requirement|control|procedure]'},\n",
    "    {'source': '!'},\n",
    "    {'classification': 'public # Options: [public|private|confidential]'},\n",
    "    {'referenceTag': {\n",
    "            'keywords': ['! # This is a list (use `-`)'],\n",
    "            'relationship': '! # `ID : [parent|peer|child]`'\n",
    "        }\n",
    "    },\n",
    "    {'status': {\n",
    "            'status': 'draft # Options: [draft|review|complete|expire]',\n",
    "            'effective': '!',\n",
    "            'expire': '!'\n",
    "        }\n",
    "    },\n",
    "    {'revision': [{\n",
    "            'date': date.today().strftime(\"%Y%m%d\"),\n",
    "            'name': 'N/A',\n",
    "            'reason': 'Initial creation'\n",
    "        }]\n",
    "    },\n",
    "    {'body': '!'}\n",
    "]\n",
    "\n",
    "for element in fields:\n",
    "    #print (element)\n",
    "    for key, value in element.items():\n",
    "        #print (key)\n",
    "        #print (value)\n",
    "        if (key == 'id') or (key == 'lang') or (key == 'referenceTag') or (key == 'status') or (key == 'revision') or (key == 'body'):\n",
    "            content[key] = value\n",
    "        else:\n",
    "            data = input(key+': '+value)\n",
    "            if data == '': content[key] = value\n",
    "            else: content[key] = data\n",
    "\n",
    "\n",
    "#print (content)"
   ]
  },
  {
   "cell_type": "markdown",
   "metadata": {},
   "source": [
    "### Set the S3 object params"
   ]
  },
  {
   "cell_type": "code",
   "execution_count": 10,
   "metadata": {},
   "outputs": [],
   "source": [
    "#https://boto3.amazonaws.com/v1/documentation/api/latest/reference/services/s3.html#S3.Object.put\n",
    "\n",
    "###########################################################\n",
    "#set the file permissions:\n",
    "#ACL='private'|'public-read'|'public-read-write'|'authenticated-read'|'aws-exec-read'|'bucket-owner-read'|'bucket-owner-full-control',\n",
    "\n",
    "#print (content['classification'])\n",
    "\n",
    "string = re.sub('#.*','',content['classification']) #remove the comment block\n",
    "if re.search('public', string, flags=re.IGNORECASE):\n",
    "    put_ACL='public-read'\n",
    "elif re.search('private', string, flags=re.IGNORECASE):\n",
    "    put_ACL='authenticated-read'\n",
    "else:\n",
    "    put_ACL='private'"
   ]
  },
  {
   "cell_type": "code",
   "execution_count": 11,
   "metadata": {},
   "outputs": [],
   "source": [
    "###########################################################\n",
    "#set the file's metadata\n",
    "put_Metadata = { 'classification': string }"
   ]
  },
  {
   "cell_type": "code",
   "execution_count": 12,
   "metadata": {},
   "outputs": [],
   "source": [
    "###########################################################\n",
    "#set the file's language\n",
    "\n",
    "#print (content['lang'])\n",
    "\n",
    "string = re.sub('#.*','',content['lang']) #remove the comment block\n",
    "string = re.sub('\\W','',string) #remove non-word chars\n",
    "if string != '':\n",
    "    put_ContentLanguage=string"
   ]
  },
  {
   "cell_type": "raw",
   "metadata": {},
   "source": [
    "###########################################################\n",
    "#format the file body\n",
    "#Note that S3 expects the body to be in binary format\n",
    "\n",
    "import yaml #https://pyyaml.org/wiki/PyYAMLDocumentation\n",
    "\n",
    "#[sort_keys=False](https://stackoverflow.com/a/55171433/12400492)\n",
    "put_Body=yaml.dump(content, default_flow_style=False, explicit_start=True, explicit_end=True, sort_keys=False, indent=2)\n",
    "\n",
    "print (put_Body)"
   ]
  },
  {
   "cell_type": "code",
   "execution_count": 17,
   "metadata": {},
   "outputs": [
    {
     "name": "stdout",
     "output_type": "stream",
     "text": [
      "%YAML 1.2\n",
      "---\n",
      "id: 6f80a72f-77aa-4969-a505-9348d62f2a5e  # QQQQQQ\n",
      "title: '!'\n",
      "subtitle: '!'\n",
      "author: '!'\n",
      "abstract: '!'\n",
      "lang: en\n",
      "type: '! # Options: [regulation|policy|standard|guidance|requirement|control|procedure]'\n",
      "source: '!'\n",
      "classification: 'public # Options: [public|private|confidential]'\n",
      "referenceTag:\n",
      "  keywords:\n",
      "    - '! # This is a list (use `-`)'\n",
      "  relationship: '! # `ID : [parent|peer|child]`'\n",
      "status:\n",
      "  status: 'draft # Options: [draft|review|complete|expire]'\n",
      "  effective: '!'\n",
      "  expire: '!'\n",
      "revision:\n",
      "  - date: '20191119'\n",
      "    name: N/A\n",
      "    reason: Initial creation\n",
      "body: '!'\n",
      "test: asdf # Test Comment!\n",
      "...\n"
     ]
    }
   ],
   "source": [
    "###########################################################\n",
    "#format the file body\n",
    "#Note that S3 expects the body to be in binary format\n",
    "\n",
    "from ruamel.yaml import YAML #[ruamel.yaml documentation](https://yaml.readthedocs.io/en/latest/index.html)\n",
    "yaml = YAML()\n",
    "\n",
    "yaml.version = (1, 2) #https://yaml.readthedocs.io/en/latest/detail.html#document-version-support\n",
    "yaml.default_flow_style = False #https://yaml.readthedocs.io/en/latest/basicuse.html#basic-usage\n",
    "yaml.indent(mapping=2, sequence=4, offset=2) #https://yaml.readthedocs.io/en/latest/detail.html#indentation-of-block-sequences\n",
    "#yaml.top_level_colon_align = True #https://yaml.readthedocs.io/en/latest/detail.html#positioning-in-top-level-mappings-prefixing\n",
    "yaml.explicit_start=True #guessed from: https://pyyaml.org/wiki/PyYAMLDocumentation\n",
    "yaml.explicit_end=True #guessed from: https://pyyaml.org/wiki/PyYAMLDocumentation\n",
    "yaml.sort_keys=False #guessed from: [sort_keys=False](https://stackoverflow.com/a/55171433/12400492)\n",
    "\n",
    "######################\n",
    "#ruamel.yaml doesnt output to a variable so we have to jump through some hoops here....\n",
    "#https://stackoverflow.com/questions/1218933/can-i-redirect-the-stdout-in-python-into-some-sort-of-string-buffer\n",
    "\n",
    "from io import StringIO\n",
    "\n",
    "old_stdout = sys.stdout\n",
    "sys.stdout = mystdout = StringIO()\n",
    "\n",
    "yaml.dump(content, sys.stdout)\n",
    "\n",
    "sys.stdout = old_stdout\n",
    "\n",
    "put_Body = mystdout.getvalue()\n",
    "\n",
    "#print (put_Body)\n",
    "\n",
    "######################\n",
    "#insert the comments as actual comments\n",
    "\n",
    "#t = ruamel.yaml.comments.CommentedMap()\n",
    "t = yaml.load(mystdout.getvalue())\n",
    "\n",
    "\n",
    "t['test'] = 'asdf'\n",
    "t.yaml_add_eol_comment('Test Comment!', 'test', column=0)\n",
    "\n",
    "#https://yaml.readthedocs.io/en/latest/detail.html#adding-replacing-comments\n",
    "#data['xyz'].yaml_add_eol_comment('comment 6', 'e')\n",
    "#t.yaml_add_eol_comment('Options: [regulation|policy|standard|guidance|requirement|control|procedure]','type')\n",
    "t.yaml_add_eol_comment('QQQQQQ','id')\n",
    "\n",
    "yaml.dump(t, sys.stdout)"
   ]
  },
  {
   "cell_type": "markdown",
   "metadata": {},
   "source": [
    "### Write the file to S3"
   ]
  },
  {
   "cell_type": "code",
   "execution_count": 14,
   "metadata": {},
   "outputs": [
    {
     "data": {
      "text/plain": [
       "{'ResponseMetadata': {'RequestId': 'F342F4C0DE2765B3',\n",
       "  'HostId': 'gyPZwOYrxR+nzp9LYgwmGS/cZeNzUOBn+wx9wgmWFTBZALa97TO0fagOhSeTjwrSzBIeKDGtAKI=',\n",
       "  'HTTPStatusCode': 200,\n",
       "  'HTTPHeaders': {'x-amz-id-2': 'gyPZwOYrxR+nzp9LYgwmGS/cZeNzUOBn+wx9wgmWFTBZALa97TO0fagOhSeTjwrSzBIeKDGtAKI=',\n",
       "   'x-amz-request-id': 'F342F4C0DE2765B3',\n",
       "   'date': 'Wed, 20 Nov 2019 03:33:25 GMT',\n",
       "   'etag': '\"f3dff3d211ee28f05f090bc16676020f\"',\n",
       "   'content-length': '0',\n",
       "   'server': 'AmazonS3'},\n",
       "  'RetryAttempts': 0},\n",
       " 'ETag': '\"f3dff3d211ee28f05f090bc16676020f\"'}"
      ]
     },
     "execution_count": 14,
     "metadata": {},
     "output_type": "execute_result"
    }
   ],
   "source": [
    "#https://boto3.amazonaws.com/v1/documentation/api/latest/reference/services/s3.html#S3.Object.put\n",
    "s3.Object(bucket_name, document['key_name']).put(\n",
    "    ACL=put_ACL,\n",
    "    ContentLanguage=put_ContentLanguage,\n",
    "    Metadata=put_Metadata,\n",
    "    Body=put_Body\n",
    ")"
   ]
  },
  {
   "cell_type": "markdown",
   "metadata": {},
   "source": [
    "## Update the database"
   ]
  },
  {
   "cell_type": "markdown",
   "metadata": {},
   "source": [
    "The contents of `contents.yaml` as a python datastructure:\n",
    "\n",
    "``` python\n",
    "db=[\n",
    "    {'id': 'string', 'asdf': 'qwerty', etc, etc},\n",
    "    {'id': 'string', 'asdf': 'qwerty', etc, etc},\n",
    "    {'id': 'string', 'asdf': 'qwerty', etc, etc}\n",
    "]\n",
    "```"
   ]
  },
  {
   "cell_type": "markdown",
   "metadata": {},
   "source": [
    "### Format new record"
   ]
  },
  {
   "cell_type": "code",
   "execution_count": null,
   "metadata": {},
   "outputs": [],
   "source": [
    "#need to fetch the file's URL too"
   ]
  },
  {
   "cell_type": "markdown",
   "metadata": {},
   "source": [
    "### Check for DB and create if needed"
   ]
  },
  {
   "cell_type": "code",
   "execution_count": null,
   "metadata": {},
   "outputs": [],
   "source": []
  },
  {
   "cell_type": "markdown",
   "metadata": {},
   "source": [
    "### Update DB with latest file info"
   ]
  },
  {
   "cell_type": "code",
   "execution_count": null,
   "metadata": {},
   "outputs": [],
   "source": []
  }
 ],
 "metadata": {
  "kernelspec": {
   "display_name": "Python 3",
   "language": "python",
   "name": "python3"
  },
  "language_info": {
   "codemirror_mode": {
    "name": "ipython",
    "version": 3
   },
   "file_extension": ".py",
   "mimetype": "text/x-python",
   "name": "python",
   "nbconvert_exporter": "python",
   "pygments_lexer": "ipython3",
   "version": "3.6.8"
  },
  "toc-autonumbering": true
 },
 "nbformat": 4,
 "nbformat_minor": 4
}
