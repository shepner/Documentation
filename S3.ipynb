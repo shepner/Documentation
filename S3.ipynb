{
 "cells": [
  {
   "cell_type": "markdown",
   "metadata": {},
   "source": [
    "# Purpose"
   ]
  },
  {
   "cell_type": "markdown",
   "metadata": {},
   "source": [
    "This notebook will create a template document containing some basic info within S3"
   ]
  },
  {
   "cell_type": "markdown",
   "metadata": {},
   "source": [
    "# Discussion"
   ]
  },
  {
   "cell_type": "markdown",
   "metadata": {},
   "source": [
    "this assumes that\n",
    "* aws credentials have been previously setup\n",
    "* Boto3 has been installed:  `pip3 install boto3`"
   ]
  },
  {
   "cell_type": "markdown",
   "metadata": {
    "toc-hr-collapsed": true
   },
   "source": [
    "# Functions"
   ]
  },
  {
   "cell_type": "markdown",
   "metadata": {},
   "source": [
    "## create_bucket(bucket_name, s3_resource)\n",
    "\n",
    "`bucket_create_response = create_bucket(bucket_name, s3_resource)`"
   ]
  },
  {
   "cell_type": "code",
   "execution_count": 1,
   "metadata": {
    "jupyter": {
     "source_hidden": true
    }
   },
   "outputs": [],
   "source": [
    "def create_bucket(bucket_name, s3_resource):\n",
    "    return s3_resource.create_bucket(Bucket=bucket_name)"
   ]
  },
  {
   "cell_type": "markdown",
   "metadata": {},
   "source": [
    "## searching for files\n",
    "\n",
    "`get_matching_s3_objects(bucket, prefix=\"\", suffix=\"\")`\n",
    "\n",
    "`key = get_matching_s3_keys(bucket, prefix=\"\", suffix=\"\")`"
   ]
  },
  {
   "cell_type": "code",
   "execution_count": 2,
   "metadata": {
    "jupyter": {
     "source_hidden": true
    }
   },
   "outputs": [],
   "source": [
    "#https://alexwlchan.net/2017/07/listing-s3-keys/\n",
    "#https://alexwlchan.net/2019/07/listing-s3-keys/\n",
    "\n",
    "import boto3\n",
    "\n",
    "def get_matching_s3_objects(bucket, prefix=\"\", suffix=\"\"):\n",
    "    \"\"\"\n",
    "    Generate objects in an S3 bucket.\n",
    "\n",
    "    :param bucket: Name of the S3 bucket.\n",
    "    :param prefix: Only fetch objects whose key starts with\n",
    "        this prefix (optional).\n",
    "    :param suffix: Only fetch objects whose keys end with\n",
    "        this suffix (optional).\n",
    "    \"\"\"\n",
    "    s3 = boto3.client(\"s3\")\n",
    "    paginator = s3.get_paginator(\"list_objects_v2\")\n",
    "\n",
    "    kwargs = {'Bucket': bucket}\n",
    "\n",
    "    # We can pass the prefix directly to the S3 API.  If the user has passed\n",
    "    # a tuple or list of prefixes, we go through them one by one.\n",
    "    if isinstance(prefix, str):\n",
    "        prefixes = (prefix, )\n",
    "    else:\n",
    "        prefixes = prefix\n",
    "\n",
    "    for key_prefix in prefixes:\n",
    "        kwargs[\"Prefix\"] = key_prefix\n",
    "\n",
    "        for page in paginator.paginate(**kwargs):\n",
    "            try:\n",
    "                contents = page[\"Contents\"]\n",
    "            except KeyError:\n",
    "                return\n",
    "\n",
    "            for obj in contents:\n",
    "                key = obj[\"Key\"]\n",
    "                if key.endswith(suffix):\n",
    "                    yield obj\n",
    "\n",
    "\n",
    "def get_matching_s3_keys(bucket, prefix=\"\", suffix=\"\"):\n",
    "    \"\"\"\n",
    "    Generate the keys in an S3 bucket.\n",
    "\n",
    "    :param bucket: Name of the S3 bucket.\n",
    "    :param prefix: Only fetch keys that start with this prefix (optional).\n",
    "    :param suffix: Only fetch keys that end with this suffix (optional).\n",
    "    \"\"\"\n",
    "    for obj in get_matching_s3_objects(bucket, prefix, suffix):\n",
    "        yield obj[\"Key\"]\n",
    "\n",
    "#for key in get_matching_s3_keys(bucket='testname.asyla.org', prefix='BlueMarble/', suffix='.jpg'):\n",
    "#    print(key)\n",
    "#print('\\n\\n')\n",
    "#for key in get_matching_s3_keys(bucket='testname.asyla.org', suffix=('.jpg', '.JPG')):\n",
    "#    print(key)"
   ]
  },
  {
   "cell_type": "markdown",
   "metadata": {},
   "source": [
    "## does_key_exist(bucket_name, file_name)\n",
    "\n",
    "`boolean = does_key_exist(bucket_name, file_name)`"
   ]
  },
  {
   "cell_type": "code",
   "execution_count": 3,
   "metadata": {
    "jupyter": {
     "source_hidden": true
    }
   },
   "outputs": [],
   "source": [
    "#https://stackoverflow.com/questions/33842944/check-if-a-key-exists-in-a-bucket-in-s3-using-boto3\n",
    "\n",
    "def does_key_exist(bucket_name, file_name):\n",
    "    try:\n",
    "        s3.Object(bucket_name, file_name).load()\n",
    "    except:\n",
    "        #print ('error')\n",
    "        return (False)\n",
    "    else:\n",
    "        #print ('worked')\n",
    "        return (True)"
   ]
  },
  {
   "cell_type": "markdown",
   "metadata": {},
   "source": [
    "## yamlDump(dataDict)\n",
    "\n",
    "`yamlData = yamlDump(dataDict)`\n",
    "\n",
    "read in a python data structure and return it in YAML format"
   ]
  },
  {
   "cell_type": "code",
   "execution_count": 4,
   "metadata": {
    "jupyter": {
     "source_hidden": true
    }
   },
   "outputs": [],
   "source": [
    "#yamlData = yamlDump(dataDict)\n",
    "#read in a python data structure and return it in YAML format\n",
    "\n",
    "def yamlDump (data):\n",
    "    from ruamel.yaml import YAML #[ruamel.yaml documentation](https://yaml.readthedocs.io/en/latest/index.html)\n",
    "    yaml = YAML()\n",
    "\n",
    "    #define the output format\n",
    "    yaml.version = (1, 2) #https://yaml.readthedocs.io/en/latest/detail.html#document-version-support\n",
    "    yaml.default_flow_style = False #https://yaml.readthedocs.io/en/latest/basicuse.html#basic-usage\n",
    "    yaml.indent(mapping=2, sequence=4, offset=2) #https://yaml.readthedocs.io/en/latest/detail.html#indentation-of-block-sequences\n",
    "    #yaml.top_level_colon_align = True #https://yaml.readthedocs.io/en/latest/detail.html#positioning-in-top-level-mappings-prefixing\n",
    "    yaml.explicit_start=True #guessed from: https://pyyaml.org/wiki/PyYAMLDocumentation\n",
    "    yaml.explicit_end=True #guessed from: https://pyyaml.org/wiki/PyYAMLDocumentation\n",
    "    yaml.sort_keys=False #guessed from: [sort_keys=False](https://stackoverflow.com/a/55171433/12400492)\n",
    "\n",
    "    from io import StringIO\n",
    "\n",
    "    old_stdout = sys.stdout #save the original stdout\n",
    "    sys.stdout = mystdout = StringIO() #redirect stdout\n",
    "    yaml.dump(data, sys.stdout) #dump YAML to stdout\n",
    "    sys.stdout = old_stdout #restore stdout\n",
    "\n",
    "    return mystdout.getvalue() #return the YAML structure"
   ]
  },
  {
   "cell_type": "markdown",
   "metadata": {},
   "source": [
    "## updateDatabase(bucket, filename, recordId, recordData)"
   ]
  },
  {
   "cell_type": "code",
   "execution_count": 26,
   "metadata": {},
   "outputs": [],
   "source": [
    "#Update the database file\n",
    "#\n",
    "#This assumes the database\n",
    "#  - resides in S3\n",
    "#  - in YAML format\n",
    "#  - it is a dictionary format\n",
    "#  - and is small enough to reside in RAM\n",
    "\n",
    "def updateDatabase(bucket, filename, recordId, recordData):\n",
    "    from ruamel.yaml import YAML #[ruamel.yaml documentation](https://yaml.readthedocs.io/en/latest/index.html)\n",
    "    yaml = YAML()\n",
    "    \n",
    "    dbContent = {} #create an empty dictionary\n",
    "    \n",
    "    #populate the datastructure with data if there is any data to work with\n",
    "    if does_key_exist(bucket, filename):\n",
    "        #fetch the DB and return it as a string\n",
    "        #https://boto3.amazonaws.com/v1/documentation/api/latest/reference/services/s3.html#S3.Object.get\n",
    "        #https://stackoverflow.com/questions/31976273/open-s3-object-as-a-string-with-boto3#35376156\n",
    "        fileBody = s3.Object(bucket, filename).get()['Body'].read().decode('utf-8') \n",
    "        #print (response)\n",
    "    \n",
    "        dbContent = yaml.load(fileBody) #read the file into an OrderdDictionary\n",
    "        #print (fileData)\n",
    "\n",
    "    \n",
    "    dbContent[recordId] = recordData #save the new record to the structure\n",
    "    #print (dbContent)\n",
    "\n",
    "    result = s3.Object(bucket, filename).put( #save the data to a S3 key\n",
    "        Body=yamlDump(dbContent) #convert the datastructure into YAML\n",
    "    )\n",
    "    \n",
    "    return result"
   ]
  },
  {
   "cell_type": "markdown",
   "metadata": {
    "toc-hr-collapsed": false
   },
   "source": [
    "# main program"
   ]
  },
  {
   "cell_type": "markdown",
   "metadata": {},
   "source": [
    "## Connect to S3"
   ]
  },
  {
   "cell_type": "code",
   "execution_count": 6,
   "metadata": {},
   "outputs": [],
   "source": [
    "import boto3\n",
    "s3 = boto3.resource('s3')"
   ]
  },
  {
   "cell_type": "code",
   "execution_count": 7,
   "metadata": {},
   "outputs": [
    {
     "name": "stdout",
     "output_type": "stream",
     "text": [
      "bucket_name=documents--88767106-9edc-4028-a451-0da43b669d7f\n"
     ]
    }
   ],
   "source": [
    "#Note that the name of a bucket must be unique to all of S3 DNS namespace\n",
    "#Names can only start with [a-z0-9] but may include [a-z0-9-_./]\n",
    "\n",
    "#bucket_name = 'Documents' #this will fail\n",
    "#bucket_name = create_unique_name('') #this is safer\n",
    "#bucket_name = create_unique_name('documents'+'--'+str(uuid.uuid4())) #this is easier to directly work with\n",
    "\n",
    "bucket_name = 'documents--88767106-9edc-4028-a451-0da43b669d7f' #hardcode this so it doesnt change\n",
    "#bucket_name = 'testname.asyla.org'\n",
    "\n",
    "print('bucket_name='+bucket_name)"
   ]
  },
  {
   "cell_type": "markdown",
   "metadata": {},
   "source": [
    "## Create bucket if needed"
   ]
  },
  {
   "cell_type": "code",
   "execution_count": 8,
   "metadata": {},
   "outputs": [],
   "source": [
    "if s3.Bucket(bucket_name).creation_date is None: #there is no date if it doesnt exist\n",
    "    response = create_bucket(bucket_name, s3)\n",
    "    #print(response)\n",
    "    print ('bucket created')"
   ]
  },
  {
   "cell_type": "markdown",
   "metadata": {
    "toc-hr-collapsed": true
   },
   "source": [
    "## Create a new (yaml) file"
   ]
  },
  {
   "cell_type": "markdown",
   "metadata": {},
   "source": [
    "### Create the name"
   ]
  },
  {
   "cell_type": "code",
   "execution_count": 9,
   "metadata": {},
   "outputs": [
    {
     "name": "stdout",
     "output_type": "stream",
     "text": [
      "document['base_name']=6b34e2f1-c927-41dd-964d-b606ac9c0b2f\n",
      "document['file_prefix']=6b/c9/41/96/b6/\n",
      "document['file_suffix']=.ymal\n",
      "document['file_name']=6b34e2f1-c927-41dd-964d-b606ac9c0b2f.ymal\n",
      "document['key_name']=6b/c9/41/96/b6/6b34e2f1-c927-41dd-964d-b606ac9c0b2f.ymal\n"
     ]
    }
   ],
   "source": [
    "#generate all the file name permutations we may need\n",
    "\n",
    "document={}\n",
    "\n",
    "#generate the base name (documentID)\n",
    "import uuid\n",
    "document['base_name']=str(uuid.uuid4())\n",
    "print(\"document['base_name']=\"+document['base_name'])\n",
    "\n",
    "#generate the prefix (the path based upon the documentID)\n",
    "import re\n",
    "#couldnt get `re.sub()` to cooperate so did this instead\n",
    "document['file_prefix'] = ''\n",
    "for part in document['base_name'].split('-'):\n",
    "    document['file_prefix'] += re.search('^.{2}', part).group(0) + '/' #match the first 2 chars and output the first match\n",
    "print(\"document['file_prefix']=\"+document['file_prefix'])\n",
    "\n",
    "#set the file suffix (extension)\n",
    "document['file_suffix']='.ymal'\n",
    "print(\"document['file_suffix']=\"+document['file_suffix'])\n",
    "\n",
    "#generate the full filename (documentID + extension)\n",
    "document['file_name']=document['base_name']+document['file_suffix']\n",
    "print(\"document['file_name']=\"+document['file_name'])\n",
    "\n",
    "#generate the full key (path + full filename)\n",
    "document['key_name']=document['file_prefix']+document['file_name']\n",
    "print(\"document['key_name']=\"+document['key_name'])\n",
    "\n",
    "#document"
   ]
  },
  {
   "cell_type": "markdown",
   "metadata": {},
   "source": [
    "### Ensure the file doesnt already exist"
   ]
  },
  {
   "cell_type": "code",
   "execution_count": 10,
   "metadata": {},
   "outputs": [],
   "source": [
    "#make sure the file does not exist\n",
    "#UUIDv4 generates random strings so there is a (small) chance of a duplicate\n",
    "import sys\n",
    "\n",
    "if does_key_exist(bucket_name, document['key_name']):\n",
    "    #print ('ERROR: File exists: '+document['key_name'])\n",
    "    sys.exit('ERROR: File exists: '+document['key_name'])"
   ]
  },
  {
   "cell_type": "markdown",
   "metadata": {},
   "source": [
    "### Collect nessessary info"
   ]
  },
  {
   "cell_type": "code",
   "execution_count": 11,
   "metadata": {},
   "outputs": [],
   "source": [
    "#Using YAML format for the document template because its what this will end up as and base Python structures dont play well with comments\n",
    "\n",
    "from datetime import date\n",
    "\n",
    "YAMLcontent = \"\"\"\n",
    "'id': \"\"\"+document['base_name']+\"\"\" # UUIDv4\n",
    "'title': '!'\n",
    "'subtitle': '!'\n",
    "'author': '!' # who wrote the document\n",
    "'abstract': '!'\n",
    "'lang': 'en'\n",
    "'type': '!' # Options: [regulation|policy|standard|guidance|requirement|control|procedure]\n",
    "'source': '!'\n",
    "'classification': 'public' # Options: [public|private|confidential]\n",
    "referenceTag:\n",
    "  keywords:\n",
    "    - '!'\n",
    "  relationship: '!' # Format: `ID : [parent|peer|child]`\n",
    "status: # this section is to provide some automatic documentation management\n",
    "  status: draft # Options: [draft|review|complete|expire]\n",
    "  effective: '!'\n",
    "  expire: '!'\n",
    "revision:\n",
    "  - date: '\"\"\"+date.today().strftime('%Y%m%d')+\"\"\"'\n",
    "    name: N/A\n",
    "    reason: Initial template created\n",
    "'body':  |\n",
    "  # Blank template\n",
    "\n",
    "  Put your text here.\n",
    "\"\"\"\n",
    "\n",
    "#print (YAMLcontent)"
   ]
  },
  {
   "cell_type": "code",
   "execution_count": 12,
   "metadata": {},
   "outputs": [
    {
     "name": "stdin",
     "output_type": "stream",
     "text": [
      "title: ! \n",
      "subtitle: ! \n",
      "author: ! \n",
      "abstract: ! \n",
      "type: ! \n",
      "source: ! \n"
     ]
    }
   ],
   "source": [
    "#prompt the user for input on certain fields\n",
    "\n",
    "from ruamel.yaml import YAML #[ruamel.yaml documentation](https://yaml.readthedocs.io/en/latest/index.html)\n",
    "yaml = YAML()\n",
    "\n",
    "YAMLdata = yaml.load(YAMLcontent) #Convert the YAML text into an OrderdDictionary\n",
    "\n",
    "#walk the data structure\n",
    "for key, value in YAMLdata.items():\n",
    "    #print (key, value)\n",
    "\n",
    "    if (key == 'title') or (key == 'subtitle') or (key == 'author') or (key == 'abstract') or (key == 'type') or (key == 'source'):\n",
    "        data = input(key+': '+value)\n",
    "        if data != '': YAMLdata[key] = data\n",
    "\n",
    "#print (YAMLdata)"
   ]
  },
  {
   "cell_type": "markdown",
   "metadata": {},
   "source": [
    "### Set the S3 object params"
   ]
  },
  {
   "cell_type": "code",
   "execution_count": 13,
   "metadata": {},
   "outputs": [],
   "source": [
    "#set the file permissions:\n",
    "#https://boto3.amazonaws.com/v1/documentation/api/latest/reference/services/s3.html#S3.Object.put\n",
    "#ACL='private'|'public-read'|'public-read-write'|'authenticated-read'|'aws-exec-read'|'bucket-owner-read'|'bucket-owner-full-control',\n",
    "\n",
    "#print (content['classification'])\n",
    "\n",
    "if re.search('public', YAMLdata['classification'], flags=re.IGNORECASE):\n",
    "    put_ACL='public-read'\n",
    "elif re.search('private', YAMLdata['classification'], flags=re.IGNORECASE):\n",
    "    put_ACL='authenticated-read'\n",
    "else:\n",
    "    put_ACL='private'"
   ]
  },
  {
   "cell_type": "code",
   "execution_count": 14,
   "metadata": {},
   "outputs": [],
   "source": [
    "#set the file's metadata\n",
    "put_Metadata = { 'classification': YAMLdata['classification'] }"
   ]
  },
  {
   "cell_type": "markdown",
   "metadata": {},
   "source": [
    "### Write the file to S3"
   ]
  },
  {
   "cell_type": "code",
   "execution_count": 15,
   "metadata": {},
   "outputs": [
    {
     "data": {
      "text/plain": [
       "{'ResponseMetadata': {'RequestId': 'FFFA418642BF220A',\n",
       "  'HostId': '8PbMZ3j0px5l1b+IsZIlh4ejyAYujHsatoIyes0Bt6XmIoDaO8Nsc2/MSZTFAmpqrD+16s8iYVc=',\n",
       "  'HTTPStatusCode': 200,\n",
       "  'HTTPHeaders': {'x-amz-id-2': '8PbMZ3j0px5l1b+IsZIlh4ejyAYujHsatoIyes0Bt6XmIoDaO8Nsc2/MSZTFAmpqrD+16s8iYVc=',\n",
       "   'x-amz-request-id': 'FFFA418642BF220A',\n",
       "   'date': 'Thu, 21 Nov 2019 23:02:39 GMT',\n",
       "   'etag': '\"57eee83b4ca85775a3740182106b1dce\"',\n",
       "   'content-length': '0',\n",
       "   'server': 'AmazonS3'},\n",
       "  'RetryAttempts': 0},\n",
       " 'ETag': '\"57eee83b4ca85775a3740182106b1dce\"'}"
      ]
     },
     "execution_count": 15,
     "metadata": {},
     "output_type": "execute_result"
    }
   ],
   "source": [
    "#https://boto3.amazonaws.com/v1/documentation/api/latest/reference/services/s3.html#S3.Object.put\n",
    "s3.Object(bucket_name, document['key_name']).put(\n",
    "    ACL=put_ACL,\n",
    "    ContentLanguage=YAMLdata['lang'],\n",
    "    Metadata=put_Metadata,\n",
    "    Body=yamlDump(YAMLdata)\n",
    ")"
   ]
  },
  {
   "cell_type": "markdown",
   "metadata": {},
   "source": [
    "## Update the database"
   ]
  },
  {
   "cell_type": "markdown",
   "metadata": {},
   "source": [
    "The `contents.yaml` will be structured as follows:\n",
    "\n",
    "``` yaml\n",
    "id1:\n",
    "  record1\n",
    "id2:\n",
    "  record2\n",
    "idN:\n",
    "  recordN\n",
    "```\n",
    "\n",
    "Where 'id' is the ID of the file and 'record' contains all but 'body'"
   ]
  },
  {
   "cell_type": "code",
   "execution_count": 16,
   "metadata": {},
   "outputs": [],
   "source": [
    "file_name='contents.yaml'"
   ]
  },
  {
   "cell_type": "markdown",
   "metadata": {},
   "source": [
    "### Format new record"
   ]
  },
  {
   "cell_type": "code",
   "execution_count": 17,
   "metadata": {},
   "outputs": [
    {
     "data": {
      "text/plain": [
       "ordereddict([('title', '!'), ('subtitle', '!'), ('author', '!'), ('abstract', '!'), ('lang', 'en'), ('type', '!'), ('source', '!'), ('classification', 'public'), ('referenceTag', ordereddict([('keywords', ['!']), ('relationship', '!')])), ('status', ordereddict([('status', 'draft'), ('effective', '!'), ('expire', '!')])), ('revision', [ordereddict([('date', '20191121'), ('name', 'N/A'), ('reason', 'Initial template created')])])])"
      ]
     },
     "execution_count": 17,
     "metadata": {},
     "output_type": "execute_result"
    }
   ],
   "source": [
    "#we dont want to save these in the DB file\n",
    "YAMLdata.pop('id',None)\n",
    "YAMLdata.pop('body',None) \n",
    "YAMLdata"
   ]
  },
  {
   "cell_type": "markdown",
   "metadata": {},
   "source": [
    "#### Fetch the object's URL"
   ]
  },
  {
   "cell_type": "code",
   "execution_count": 18,
   "metadata": {},
   "outputs": [
    {
     "name": "stdout",
     "output_type": "stream",
     "text": [
      "https://documents--88767106-9edc-4028-a451-0da43b669d7f.s3.amazonaws.com/6b/c9/41/96/b6/6b34e2f1-c927-41dd-964d-b606ac9c0b2f.ymal\n"
     ]
    }
   ],
   "source": [
    "#https://boto3.amazonaws.com/v1/documentation/api/latest/guide/s3-presigned-urls.html\n",
    "#note that this is doing more then just fetching the URL\n",
    "#this is promising but is incomplete:  https://stackoverflow.com/a/48197877/12400492\n",
    "\n",
    "url = boto3.client('s3').generate_presigned_url('get_object',Params={'Bucket': bucket_name,'Key': document['key_name']},ExpiresIn=60*60*24)\n",
    "#print (url)\n",
    "\n",
    "YAMLdata['object_url'] = url.split('?')[0] #for now, just remove the extra stuff\n",
    "\n",
    "print (YAMLdata['object_url'])"
   ]
  },
  {
   "cell_type": "markdown",
   "metadata": {},
   "source": [
    "### Update the tracking DB with latest info"
   ]
  },
  {
   "cell_type": "code",
   "execution_count": 27,
   "metadata": {},
   "outputs": [
    {
     "data": {
      "text/plain": [
       "{'ResponseMetadata': {'RequestId': 'E6E6E38581CBD67D',\n",
       "  'HostId': 'n0jeR3/26qGPKMZIsrUw2a9Ge0c0Brl3rvCVlEEw2m0Cq+yE90lIWClOwVLIArx9OT1HxjDI/2E=',\n",
       "  'HTTPStatusCode': 200,\n",
       "  'HTTPHeaders': {'x-amz-id-2': 'n0jeR3/26qGPKMZIsrUw2a9Ge0c0Brl3rvCVlEEw2m0Cq+yE90lIWClOwVLIArx9OT1HxjDI/2E=',\n",
       "   'x-amz-request-id': 'E6E6E38581CBD67D',\n",
       "   'date': 'Fri, 22 Nov 2019 13:58:40 GMT',\n",
       "   'etag': '\"704703d04e4d97ea5d308432d351a531\"',\n",
       "   'content-length': '0',\n",
       "   'server': 'AmazonS3'},\n",
       "  'RetryAttempts': 0},\n",
       " 'ETag': '\"704703d04e4d97ea5d308432d351a531\"'}"
      ]
     },
     "execution_count": 27,
     "metadata": {},
     "output_type": "execute_result"
    }
   ],
   "source": [
    "updateDatabase(bucket_name, file_name, document['base_name'], YAMLdata)"
   ]
  },
  {
   "cell_type": "code",
   "execution_count": null,
   "metadata": {},
   "outputs": [],
   "source": []
  }
 ],
 "metadata": {
  "kernelspec": {
   "display_name": "Python 3",
   "language": "python",
   "name": "python3"
  },
  "language_info": {
   "codemirror_mode": {
    "name": "ipython",
    "version": 3
   },
   "file_extension": ".py",
   "mimetype": "text/x-python",
   "name": "python",
   "nbconvert_exporter": "python",
   "pygments_lexer": "ipython3",
   "version": "3.6.8"
  },
  "toc-autonumbering": true
 },
 "nbformat": 4,
 "nbformat_minor": 4
}
