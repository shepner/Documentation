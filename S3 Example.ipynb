{
 "cells": [
  {
   "cell_type": "markdown",
   "metadata": {},
   "source": [
    "# Purpose"
   ]
  },
  {
   "cell_type": "markdown",
   "metadata": {},
   "source": [
    "# Discussion"
   ]
  },
  {
   "cell_type": "markdown",
   "metadata": {},
   "source": [
    "this assumes that\n",
    "* aws credentials have been previously setup\n",
    "* Boto3 has been installed:  `pip3 install boto3`"
   ]
  },
  {
   "cell_type": "markdown",
   "metadata": {},
   "source": [
    "# Functions"
   ]
  },
  {
   "cell_type": "markdown",
   "metadata": {},
   "source": [
    "## create_bucket(bucket_name, s3_resource)\n",
    "\n",
    "`bucket_create_response = create_bucket(bucket_name, s3_resource)`"
   ]
  },
  {
   "cell_type": "code",
   "execution_count": 1,
   "metadata": {},
   "outputs": [],
   "source": [
    "def create_bucket(bucket_name, s3_resource):\n",
    "    return s3_resource.create_bucket(Bucket=bucket_name)"
   ]
  },
  {
   "cell_type": "markdown",
   "metadata": {},
   "source": [
    "## searching for files\n",
    "\n",
    "`get_matching_s3_objects(bucket, prefix=\"\", suffix=\"\")`\n",
    "\n",
    "`key = get_matching_s3_keys(bucket, prefix=\"\", suffix=\"\")`"
   ]
  },
  {
   "cell_type": "code",
   "execution_count": 2,
   "metadata": {},
   "outputs": [],
   "source": [
    "#https://alexwlchan.net/2017/07/listing-s3-keys/\n",
    "#https://alexwlchan.net/2019/07/listing-s3-keys/\n",
    "\n",
    "import boto3\n",
    "\n",
    "def get_matching_s3_objects(bucket, prefix=\"\", suffix=\"\"):\n",
    "    \"\"\"\n",
    "    Generate objects in an S3 bucket.\n",
    "\n",
    "    :param bucket: Name of the S3 bucket.\n",
    "    :param prefix: Only fetch objects whose key starts with\n",
    "        this prefix (optional).\n",
    "    :param suffix: Only fetch objects whose keys end with\n",
    "        this suffix (optional).\n",
    "    \"\"\"\n",
    "    s3 = boto3.client(\"s3\")\n",
    "    paginator = s3.get_paginator(\"list_objects_v2\")\n",
    "\n",
    "    kwargs = {'Bucket': bucket}\n",
    "\n",
    "    # We can pass the prefix directly to the S3 API.  If the user has passed\n",
    "    # a tuple or list of prefixes, we go through them one by one.\n",
    "    if isinstance(prefix, str):\n",
    "        prefixes = (prefix, )\n",
    "    else:\n",
    "        prefixes = prefix\n",
    "\n",
    "    for key_prefix in prefixes:\n",
    "        kwargs[\"Prefix\"] = key_prefix\n",
    "\n",
    "        for page in paginator.paginate(**kwargs):\n",
    "            try:\n",
    "                contents = page[\"Contents\"]\n",
    "            except KeyError:\n",
    "                return\n",
    "\n",
    "            for obj in contents:\n",
    "                key = obj[\"Key\"]\n",
    "                if key.endswith(suffix):\n",
    "                    yield obj\n",
    "\n",
    "\n",
    "def get_matching_s3_keys(bucket, prefix=\"\", suffix=\"\"):\n",
    "    \"\"\"\n",
    "    Generate the keys in an S3 bucket.\n",
    "\n",
    "    :param bucket: Name of the S3 bucket.\n",
    "    :param prefix: Only fetch keys that start with this prefix (optional).\n",
    "    :param suffix: Only fetch keys that end with this suffix (optional).\n",
    "    \"\"\"\n",
    "    for obj in get_matching_s3_objects(bucket, prefix, suffix):\n",
    "        yield obj[\"Key\"]\n",
    "\n",
    "#for key in get_matching_s3_keys(bucket='testname.asyla.org', prefix='BlueMarble/', suffix='.jpg'):\n",
    "#    print(key)\n",
    "#print('\\n\\n')\n",
    "#for key in get_matching_s3_keys(bucket='testname.asyla.org', suffix=('.jpg', '.JPG')):\n",
    "#    print(key)"
   ]
  },
  {
   "cell_type": "markdown",
   "metadata": {},
   "source": [
    "## does_key_exist(bucket_name, file_name)\n",
    "\n",
    "`boolean = does_key_exist(bucket_name, file_name)`"
   ]
  },
  {
   "cell_type": "code",
   "execution_count": 3,
   "metadata": {},
   "outputs": [],
   "source": [
    "#https://stackoverflow.com/questions/33842944/check-if-a-key-exists-in-a-bucket-in-s3-using-boto3\n",
    "\n",
    "def does_key_exist(bucket_name, file_name):\n",
    "    try:\n",
    "        s3.Object(bucket_name, file_name).load()\n",
    "    except:\n",
    "        #print ('error')\n",
    "        return (False)\n",
    "    else:\n",
    "        #print ('worked')\n",
    "        return (True)"
   ]
  },
  {
   "cell_type": "code",
   "execution_count": null,
   "metadata": {},
   "outputs": [],
   "source": []
  },
  {
   "cell_type": "code",
   "execution_count": null,
   "metadata": {},
   "outputs": [],
   "source": []
  },
  {
   "cell_type": "markdown",
   "metadata": {},
   "source": [
    "# Examples"
   ]
  },
  {
   "cell_type": "code",
   "execution_count": 14,
   "metadata": {},
   "outputs": [
    {
     "name": "stdout",
     "output_type": "stream",
     "text": [
      "True\n"
     ]
    }
   ],
   "source": [
    "#.casefold() is a Python3 unicode friendly way to do a case insensitive match\n",
    "\n",
    "\n",
    "t = 'TEST'\n",
    "if t.casefold() == 'tEsT'.casefold():\n",
    "    print (True)\n",
    "else:\n",
    "    print (False)"
   ]
  },
  {
   "cell_type": "raw",
   "metadata": {},
   "source": [
    "import sys\n",
    "sys.exit() #terminate the program so it doesnt run anything below"
   ]
  },
  {
   "cell_type": "code",
   "execution_count": 30,
   "metadata": {},
   "outputs": [],
   "source": [
    "#initial setup stuff\n",
    "import boto3\n",
    "s3 = boto3.resource('s3')\n",
    "\n",
    "import uuid\n",
    "bucket_name = str(uuid.uuid4())\n",
    "\n",
    "document['key_name'] = str(uuid.uuid4())"
   ]
  },
  {
   "cell_type": "markdown",
   "metadata": {},
   "source": [
    "## Create a bucket"
   ]
  },
  {
   "cell_type": "code",
   "execution_count": 31,
   "metadata": {},
   "outputs": [
    {
     "data": {
      "text/plain": [
       "s3.Bucket(name='eda4d36f-9812-410a-ad14-cfa2b149c7d9')"
      ]
     },
     "execution_count": 31,
     "metadata": {},
     "output_type": "execute_result"
    }
   ],
   "source": [
    "create_bucket(bucket_name, s3)"
   ]
  },
  {
   "cell_type": "markdown",
   "metadata": {},
   "source": [
    "## Create an object"
   ]
  },
  {
   "cell_type": "code",
   "execution_count": 32,
   "metadata": {},
   "outputs": [
    {
     "data": {
      "text/plain": [
       "{'ResponseMetadata': {'RequestId': 'E727EE630C47C4B5',\n",
       "  'HostId': 'RyH8y+cMXqF6qdwYQtJ+qDqKd2tGSa1LAar1ORX4HeYVgultO8H+sl3OHCc4LvIQSBTkjMM8dB8=',\n",
       "  'HTTPStatusCode': 200,\n",
       "  'HTTPHeaders': {'x-amz-id-2': 'RyH8y+cMXqF6qdwYQtJ+qDqKd2tGSa1LAar1ORX4HeYVgultO8H+sl3OHCc4LvIQSBTkjMM8dB8=',\n",
       "   'x-amz-request-id': 'E727EE630C47C4B5',\n",
       "   'date': 'Mon, 18 Nov 2019 19:15:17 GMT',\n",
       "   'etag': '\"1689cdbdec02851b893aa62c6e3cc2f7\"',\n",
       "   'content-length': '0',\n",
       "   'server': 'AmazonS3'},\n",
       "  'RetryAttempts': 0},\n",
       " 'ETag': '\"1689cdbdec02851b893aa62c6e3cc2f7\"'}"
      ]
     },
     "execution_count": 32,
     "metadata": {},
     "output_type": "execute_result"
    }
   ],
   "source": [
    "#https://boto3.amazonaws.com/v1/documentation/api/latest/reference/services/s3.html#S3.Object.put\n",
    "s3.Object(bucket_name, document['key_name']).put(Body=b'the quick brown fox jumped over the lazy dog\\n')"
   ]
  },
  {
   "cell_type": "markdown",
   "metadata": {},
   "source": [
    "## Find the size of the file"
   ]
  },
  {
   "cell_type": "code",
   "execution_count": 33,
   "metadata": {},
   "outputs": [
    {
     "name": "stdout",
     "output_type": "stream",
     "text": [
      "45\n"
     ]
    }
   ],
   "source": [
    "#find the size of the file\n",
    "#https://boto3.amazonaws.com/v1/documentation/api/latest/reference/services/s3.html#S3.Object.content_length\n",
    "print (s3.Object(bucket_name, document['key_name']).content_length)"
   ]
  },
  {
   "cell_type": "markdown",
   "metadata": {},
   "source": [
    "## Last modified"
   ]
  },
  {
   "cell_type": "code",
   "execution_count": 34,
   "metadata": {},
   "outputs": [
    {
     "name": "stdout",
     "output_type": "stream",
     "text": [
      "2019-11-18 19:15:17+00:00\n"
     ]
    }
   ],
   "source": [
    "#last modified\n",
    "#https://boto3.amazonaws.com/v1/documentation/api/latest/reference/services/s3.html#S3.Object.last_modified\n",
    "print (s3.Object(bucket_name, document['key_name']).last_modified)"
   ]
  },
  {
   "cell_type": "markdown",
   "metadata": {},
   "source": [
    "## Associated metadata"
   ]
  },
  {
   "cell_type": "code",
   "execution_count": 35,
   "metadata": {},
   "outputs": [
    {
     "name": "stdout",
     "output_type": "stream",
     "text": [
      "{}\n"
     ]
    }
   ],
   "source": [
    "#associated metadata\n",
    "#https://boto3.amazonaws.com/v1/documentation/api/latest/reference/services/s3.html#S3.Object.metadata\n",
    "#NOTE: The actual `\"key\": \"value\"` pair would be `\"x-amz-meta-test\": \"this is a test\"` while here it would show as `\"test\": \"this is a test\"`\n",
    "print (s3.Object(bucket_name, document['key_name']).metadata)"
   ]
  },
  {
   "cell_type": "markdown",
   "metadata": {},
   "source": [
    "## Download a file and append data to it"
   ]
  },
  {
   "cell_type": "code",
   "execution_count": 37,
   "metadata": {},
   "outputs": [
    {
     "name": "stdout",
     "output_type": "stream",
     "text": [
      "b'the quick brown fox jumped over the lazy dog\\n'\n",
      "b'the quick brown fox jumped over the lazy dog\\nhere is some text\\n'\n"
     ]
    }
   ],
   "source": [
    "#download a file and append data to it\n",
    "\n",
    "import tempfile #https://docs.python.org/3/library/tempfile.html\n",
    "\n",
    "maxSize=1024*1024*10 #10MB\n",
    "\n",
    "tf = tempfile.SpooledTemporaryFile(max_size=maxSize) #create a temp file stored in memory or disk depending on size\n",
    "\n",
    "s3.Object(bucket_name, document['key_name']).download_fileobj(tf) #download the file\n",
    "\n",
    "tf.seek(0) #goto the beginning of the file\n",
    "t=tf.read()\n",
    "print (t)\n",
    "\n",
    "tf.seek(0,2) #goto 0th byte before EOF:  https://docs.python.org/3/tutorial/inputoutput.html#methods-of-file-objects\n",
    "tf.write(b'here is some text\\n')\n",
    "\n",
    "tf.seek(0) #goto the beginning of the file\n",
    "t=tf.read()\n",
    "print (t)\n",
    "\n",
    "tf.seek(0) #goto the beginning of the file\n",
    "s3.Object(bucket_name, document['key_name']).upload_fileobj(tf) #upload the file\n",
    "\n",
    "tf.close() #close/delete the file"
   ]
  },
  {
   "cell_type": "markdown",
   "metadata": {},
   "source": [
    "## return the file as a string"
   ]
  },
  {
   "cell_type": "code",
   "execution_count": 15,
   "metadata": {},
   "outputs": [
    {
     "ename": "NameError",
     "evalue": "name 'document' is not defined",
     "output_type": "error",
     "traceback": [
      "\u001b[0;31m---------------------------------------------------------------------------\u001b[0m",
      "\u001b[0;31mNameError\u001b[0m                                 Traceback (most recent call last)",
      "\u001b[0;32m<ipython-input-15-bc5c5486f896>\u001b[0m in \u001b[0;36m<module>\u001b[0;34m\u001b[0m\n\u001b[0;32m----> 1\u001b[0;31m \u001b[0mresponse\u001b[0m \u001b[0;34m=\u001b[0m \u001b[0ms3\u001b[0m\u001b[0;34m.\u001b[0m\u001b[0mObject\u001b[0m\u001b[0;34m(\u001b[0m\u001b[0mbucket_name\u001b[0m\u001b[0;34m,\u001b[0m \u001b[0mdocument\u001b[0m\u001b[0;34m[\u001b[0m\u001b[0;34m'key_name'\u001b[0m\u001b[0;34m]\u001b[0m\u001b[0;34m)\u001b[0m\u001b[0;34m.\u001b[0m\u001b[0mget\u001b[0m\u001b[0;34m(\u001b[0m\u001b[0;34m)\u001b[0m\u001b[0;34m[\u001b[0m\u001b[0;34m'Body'\u001b[0m\u001b[0;34m]\u001b[0m\u001b[0;34m.\u001b[0m\u001b[0mread\u001b[0m\u001b[0;34m(\u001b[0m\u001b[0;34m)\u001b[0m\u001b[0;34m.\u001b[0m\u001b[0mdecode\u001b[0m\u001b[0;34m(\u001b[0m\u001b[0;34m'utf-8'\u001b[0m\u001b[0;34m)\u001b[0m\u001b[0;34m\u001b[0m\u001b[0;34m\u001b[0m\u001b[0m\n\u001b[0m\u001b[1;32m      2\u001b[0m \u001b[0mprint\u001b[0m \u001b[0;34m(\u001b[0m\u001b[0mresponse\u001b[0m\u001b[0;34m)\u001b[0m\u001b[0;34m\u001b[0m\u001b[0;34m\u001b[0m\u001b[0m\n",
      "\u001b[0;31mNameError\u001b[0m: name 'document' is not defined"
     ]
    }
   ],
   "source": [
    "response = s3.Object(bucket_name, document['key_name']).get()['Body'].read().decode('utf-8') \n",
    "print (response)"
   ]
  },
  {
   "cell_type": "markdown",
   "metadata": {},
   "source": [
    "## Delete a file"
   ]
  },
  {
   "cell_type": "code",
   "execution_count": 38,
   "metadata": {},
   "outputs": [
    {
     "data": {
      "text/plain": [
       "<bound method ResourceFactory._create_action.<locals>.do_action of s3.Object(bucket_name='eda4d36f-9812-410a-ad14-cfa2b149c7d9', key='695e20b6-cf0e-4daf-8cc3-557230bcb6c8')>"
      ]
     },
     "execution_count": 38,
     "metadata": {},
     "output_type": "execute_result"
    }
   ],
   "source": [
    "#https://boto3.amazonaws.com/v1/documentation/api/latest/reference/services/s3.html#S3.Object.delete\n",
    "s3.Object(bucket_name, document['key_name']).delete"
   ]
  },
  {
   "cell_type": "markdown",
   "metadata": {},
   "source": [
    "## Delete all objects"
   ]
  },
  {
   "cell_type": "code",
   "execution_count": 39,
   "metadata": {},
   "outputs": [],
   "source": [
    "def delete_all_objects(bucket_name, s3_resource):\n",
    "    res = []\n",
    "    bucket=s3_resource.Bucket(bucket_name)\n",
    "    for obj_version in bucket.object_versions.all():\n",
    "        res.append({'Key': obj_version.object_key,\n",
    "                    'VersionId': obj_version.id})\n",
    "    #print(res)\n",
    "    if res!=[]:\n",
    "        bucket.delete_objects(Delete={'Objects': res})\n",
    "        \n",
    "delete_all_objects(bucket_name, s3)"
   ]
  },
  {
   "cell_type": "markdown",
   "metadata": {},
   "source": [
    "## Delete the bucket"
   ]
  },
  {
   "cell_type": "code",
   "execution_count": 40,
   "metadata": {},
   "outputs": [
    {
     "data": {
      "text/plain": [
       "{'ResponseMetadata': {'RequestId': '96E15738DBF7C0DF',\n",
       "  'HostId': 'iFGkgK62eVOUvez4mt7EeAbofO3a+7z/bExWacaZODSDAibL704Hsjm0MZc2k8WbVRkoUwIQNHc=',\n",
       "  'HTTPStatusCode': 204,\n",
       "  'HTTPHeaders': {'x-amz-id-2': 'iFGkgK62eVOUvez4mt7EeAbofO3a+7z/bExWacaZODSDAibL704Hsjm0MZc2k8WbVRkoUwIQNHc=',\n",
       "   'x-amz-request-id': '96E15738DBF7C0DF',\n",
       "   'date': 'Mon, 18 Nov 2019 19:15:21 GMT',\n",
       "   'server': 'AmazonS3'},\n",
       "  'RetryAttempts': 0}}"
      ]
     },
     "execution_count": 40,
     "metadata": {},
     "output_type": "execute_result"
    }
   ],
   "source": [
    "#delete the (empty) bucket\n",
    "s3.Bucket(bucket_name).delete()"
   ]
  },
  {
   "cell_type": "code",
   "execution_count": null,
   "metadata": {},
   "outputs": [],
   "source": []
  }
 ],
 "metadata": {
  "kernelspec": {
   "display_name": "Python 3",
   "language": "python",
   "name": "python3"
  },
  "language_info": {
   "codemirror_mode": {
    "name": "ipython",
    "version": 3
   },
   "file_extension": ".py",
   "mimetype": "text/x-python",
   "name": "python",
   "nbconvert_exporter": "python",
   "pygments_lexer": "ipython3",
   "version": "3.6.8"
  },
  "toc-autonumbering": true
 },
 "nbformat": 4,
 "nbformat_minor": 4
}
