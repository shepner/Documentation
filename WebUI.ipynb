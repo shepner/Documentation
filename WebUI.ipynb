{
 "cells": [
  {
   "cell_type": "markdown",
   "metadata": {},
   "source": [
    "Want a web service which generates pages based on REST API calls (ie like Jira)\n",
    "\n",
    "* [Creating Web APIs with Python and Flask](https://programminghistorian.org/en/lessons/creating-apis-with-python-and-flask)\n",
    "\n",
    "\n",
    "* [Flask resources](https://www.fullstackpython.com/flask.html)\n",
    "* [Pallets Projects](https://www.palletsprojects.com/)\n",
    "* [Flask](https://palletsprojects.com/p/flask/)\n",
    "\n",
    "\n",
    "* [How to use Flask to upload files to Amazon s3](http://zabana.me/notes/upload-files-amazon-s3-flask.html)\n",
    "\n",
    "\n",
    "* [a little note-taking app with Flask](http://charlesleifer.com/blog/saturday-morning-hack-a-little-note-taking-app-with-flask/)\n",
    "  * https://gist.github.com/coleifer/632d3c9aa6b2ea519384\n",
    "* [Revisiting the notes app](http://charlesleifer.com/blog/saturday-morning-hacks-revisiting-the-notes-app/)\n",
    "  * https://gist.github.com/coleifer/69ec9d09b2efe05527eb\n",
    "* [Adding full-text search to the flask note-taking app](http://charlesleifer.com/blog/saturday-morning-hacks-adding-full-text-search-to-the-flask-note-taking-app/)\n",
    "  * https://gist.github.com/coleifer/d93d6c43e59698d149c0\n",
    "  \n",
    "  \n",
    "* [WSGI Server](https://www.fullstackpython.com/wsgi-servers.html)\n",
    "* [Deployment Options](https://flask.palletsprojects.com/en/1.1.x/deploying/)\n",
    "* [Deploying a Flask Application to Elastic Beanstalk](https://docs.aws.amazon.com/elasticbeanstalk/latest/dg/create-deploy-python-flask.html)"
   ]
  },
  {
   "cell_type": "code",
   "execution_count": null,
   "metadata": {},
   "outputs": [],
   "source": []
  }
 ],
 "metadata": {
  "kernelspec": {
   "display_name": "Python 3",
   "language": "python",
   "name": "python3"
  },
  "language_info": {
   "codemirror_mode": {
    "name": "ipython",
    "version": 3
   },
   "file_extension": ".py",
   "mimetype": "text/x-python",
   "name": "python",
   "nbconvert_exporter": "python",
   "pygments_lexer": "ipython3",
   "version": "3.6.8"
  }
 },
 "nbformat": 4,
 "nbformat_minor": 4
}
