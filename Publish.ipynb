{
 "cells": [
  {
   "cell_type": "code",
   "execution_count": 1,
   "metadata": {},
   "outputs": [],
   "source": [
    "URL='https://raw.githubusercontent.com/shepner/Documentation/master/c54c285f-eeb4-4a42-815f-9ea0656265e2.yaml'\n",
    "\n",
    "#read .yaml file\n",
    "import requests\n",
    "\n",
    "r = requests.get(URL)\n",
    "#r.status_code\n",
    "#r.headers['content-type']\n",
    "#r.encoding\n",
    "#r.text\n",
    "#r.json()\n",
    "#r.content  #this is the body of the page"
   ]
  },
  {
   "cell_type": "code",
   "execution_count": 2,
   "metadata": {},
   "outputs": [],
   "source": [
    "#parse the YAML contents\n",
    "import yaml\n",
    "\n",
    "content = yaml.load(r.content, Loader=yaml.FullLoader)\n",
    "#content"
   ]
  },
  {
   "cell_type": "code",
   "execution_count": 3,
   "metadata": {},
   "outputs": [],
   "source": [
    "#for item, value in content.items():\n",
    "#    print(item, \":\", value)"
   ]
  },
  {
   "cell_type": "code",
   "execution_count": 4,
   "metadata": {},
   "outputs": [],
   "source": [
    "#Structure the page and write it to a file\n",
    "f = open(content['id']+'.md', 'w')  #open a file for output\n",
    "\n",
    "print (\"<title>\",content['title'],\"</title>\\n\", file=f)\n",
    "\n",
    "#print (\"\\n---\\n\", file=f)\n",
    "\n",
    "print (content['documentBody'], file=f)\n",
    "\n",
    "print (\"\\n---\\n\", file=f)\n",
    "\n",
    "print (\"# Revision history\", file=f)\n",
    "#print the revisions as a table in HTML because CommonMark doesnt do that\n",
    "print (\"<style>\", file=f)\n",
    "print (\"table { border-collapse: collapse; width: 100%; }\", file=f)\n",
    "print (\"td, th { border: 1px solid #dddddd; text-align: left; padding: 8px; }\", file=f)\n",
    "print (\"</style>\", file=f)\n",
    "\n",
    "print (\"<table>\", file=f)\n",
    "print (\"<tr>\", file=f)\n",
    "print (\"<th>Date</th>\", file=f)\n",
    "print (\"<th>Name</th>\", file=f)\n",
    "print (\"<th>Reason</th>\", file=f)\n",
    "print (\"</tr>\", file=f)\n",
    "#the 'revisions' key consists of a list of sets\n",
    "#`content['revision'][0]['date']` will provide that specific data element\n",
    "for element in content['revision']:  #step through the list elements\n",
    "    print (\"<tr>\", file=f)\n",
    "    #now print the fields\n",
    "    print (\"<td>\",element['date'],\"</td>\", file=f)\n",
    "    print (\"<td>\",element['name'],\"</td>\", file=f)\n",
    "    print (\"<td>\",element['reason'],\"</td>\", file=f)\n",
    "    print (\"</tr>\", file=f)\n",
    "print (\"</table>\", file=f)\n",
    "\n",
    "f.close()  #close the file"
   ]
  },
  {
   "cell_type": "code",
   "execution_count": 5,
   "metadata": {},
   "outputs": [
    {
     "data": {
      "text/plain": [
       "CompletedProcess(args=['pandoc', 'c54c285f-eeb4-4a42-815f-9ea0656265e2.md', '--html-q-tags', '-s', '-o', 'c54c285f-eeb4-4a42-815f-9ea0656265e2.html'], returncode=0)"
      ]
     },
     "execution_count": 5,
     "metadata": {},
     "output_type": "execute_result"
    }
   ],
   "source": [
    "#convert the CommonMark file into other formats\n",
    "import subprocess\n",
    "subprocess.run(['pandoc', content['id']+'.md', '--html-q-tags', '-s', '-o', content['id']+'.html'])\n",
    "#subprocess.run(['pandoc', content['id']+'.md', \"-o\", content['id']+'.pdf']) #this is generating errors"
   ]
  },
  {
   "cell_type": "code",
   "execution_count": null,
   "metadata": {},
   "outputs": [],
   "source": []
  }
 ],
 "metadata": {
  "kernelspec": {
   "display_name": "Python 3",
   "language": "python",
   "name": "python3"
  },
  "language_info": {
   "codemirror_mode": {
    "name": "ipython",
    "version": 3
   },
   "file_extension": ".py",
   "mimetype": "text/x-python",
   "name": "python",
   "nbconvert_exporter": "python",
   "pygments_lexer": "ipython3",
   "version": "3.6.8"
  }
 },
 "nbformat": 4,
 "nbformat_minor": 4
}
