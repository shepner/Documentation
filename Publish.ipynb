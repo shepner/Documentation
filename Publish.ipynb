{
 "cells": [
  {
   "cell_type": "markdown",
   "metadata": {},
   "source": [
    "# Purpose\n",
    "\n",
    "The purpose of this application is to publish the YAML formatted document as HTML, PDF, and CommonMark"
   ]
  },
  {
   "cell_type": "markdown",
   "metadata": {},
   "source": [
    "# References\n",
    "\n",
    "Put useful stuff here\n",
    "\n",
    "* [PyYAML](https://pyyaml.org/)\n",
    "* [pandoc](https://pandoc.org/)\n",
    "  * [TeX Live](https://www.tug.org/texlive/) which is needed to [create a PDF](https://pandoc.org/MANUAL.html#creating-a-pdf)"
   ]
  },
  {
   "cell_type": "markdown",
   "metadata": {},
   "source": [
    "# Install\n",
    "\n",
    "Anything that needs installed to use this should be listed here\n",
    "\n",
    "``` shell\n",
    "#PyYAML\n",
    "sudo -H pip3 install pyyaml\n",
    "\n",
    "#Pandoc\n",
    "sudo apt install pandoc\n",
    "sudo apt install texlive-latex-recommended\n",
    "```"
   ]
  },
  {
   "cell_type": "markdown",
   "metadata": {
    "toc-hr-collapsed": false
   },
   "source": [
    "# Application"
   ]
  },
  {
   "cell_type": "markdown",
   "metadata": {},
   "source": [
    "## Configuration"
   ]
  },
  {
   "cell_type": "code",
   "execution_count": null,
   "metadata": {},
   "outputs": [],
   "source": [
    "srcDir=\"./src\"\n",
    "dstDir=\"./docs\"\n",
    "\n",
    "#extensions to use for the various output types\n",
    "#use: `extentions['yaml']` to receive the value\n",
    "extentions = {\n",
    "    'yaml': '.yaml',\n",
    "    'pandoc': '.pandoc',\n",
    "    'markdown': '.md',\n",
    "    'html': '.html',\n",
    "    'pdf': '.pdf'\n",
    "}"
   ]
  },
  {
   "cell_type": "markdown",
   "metadata": {},
   "source": [
    "## function definitions"
   ]
  },
  {
   "cell_type": "markdown",
   "metadata": {},
   "source": [
    "### find()"
   ]
  },
  {
   "cell_type": "code",
   "execution_count": 35,
   "metadata": {
    "jupyter": {
     "source_hidden": true
    }
   },
   "outputs": [],
   "source": [
    "#find files that match the pattern\n",
    "\n",
    "#these functions came from:\n",
    "#https://stackoverflow.com/questions/1724693/find-a-file-in-python\n",
    "\n",
    "\"\"\"\n",
    "#this will find the first match\n",
    "import os\n",
    "def find(name, path):\n",
    "    for root, dirs, files in os.walk(path):\n",
    "        if name in files:\n",
    "            return os.path.join(root, name)\n",
    "\n",
    "#this will find all matches\n",
    "import os\n",
    "def find_all(name, path):\n",
    "    result = []\n",
    "    for root, dirs, files in os.walk(path):\n",
    "        if name in files:\n",
    "            result.append(os.path.join(root, name))\n",
    "    return result\n",
    "\"\"\"\n",
    "\n",
    "#this will match a pattern\n",
    "import os, fnmatch\n",
    "def find(pattern, path):\n",
    "    result = []\n",
    "    for root, dirs, files in os.walk(path):\n",
    "        for name in files:\n",
    "            if fnmatch.fnmatch(name, pattern):\n",
    "                result.append(os.path.join(root, name))\n",
    "    return result\n",
    "#find('*.txt', '/path/to/dir')"
   ]
  },
  {
   "cell_type": "markdown",
   "metadata": {},
   "source": [
    "### mkdir_p() and safe_open_w()"
   ]
  },
  {
   "cell_type": "code",
   "execution_count": 40,
   "metadata": {
    "jupyter": {
     "source_hidden": true
    }
   },
   "outputs": [],
   "source": [
    "#the following is from:\n",
    "#https://stackoverflow.com/questions/23793987/write-file-to-a-directory-that-doesnt-exist\n",
    "\n",
    "import os, os.path\n",
    "import errno\n",
    "\n",
    "# Taken from https://stackoverflow.com/a/600612/119527\n",
    "def mkdir_p(path):\n",
    "    try:\n",
    "        os.makedirs(path)\n",
    "    except OSError as exc: # Python >2.5\n",
    "        if exc.errno == errno.EEXIST and os.path.isdir(path):\n",
    "            pass\n",
    "        else: raise\n",
    "\n",
    "def safe_open_w(path):\n",
    "    ''' Open \"path\" for writing, creating any parent directories as needed.\n",
    "    '''\n",
    "    mkdir_p(os.path.dirname(path))\n",
    "    return open(path, 'w')\n",
    "\n",
    "#with safe_open_w('/Users/bill/output/output-text.txt') as f:\n",
    "#    f.write(...)"
   ]
  },
  {
   "cell_type": "markdown",
   "metadata": {},
   "source": [
    "### yaml2python()"
   ]
  },
  {
   "cell_type": "code",
   "execution_count": 36,
   "metadata": {
    "jupyter": {
     "source_hidden": true
    }
   },
   "outputs": [],
   "source": [
    "#this will convert a yaml file to a python data structure.\n",
    "\n",
    "import yaml\n",
    "\n",
    "def yaml2python (file):\n",
    "    #print (file)\n",
    "\n",
    "    f = open (file, 'r') #open the file to read\n",
    "    content = yaml.load(f.read(), Loader=yaml.FullLoader) #convert the yaml contents into a python data structure\n",
    "    f.close() #close the file\n",
    "    \n",
    "    #print (content)\n",
    "    \n",
    "    return content"
   ]
  },
  {
   "cell_type": "markdown",
   "metadata": {},
   "source": [
    "### generatePandocFile()"
   ]
  },
  {
   "cell_type": "code",
   "execution_count": 37,
   "metadata": {},
   "outputs": [],
   "source": [
    "#`data` = the python data structure object\n",
    "#`output` = the output file\n",
    "\n",
    "def generatePandocFile (data, output):\n",
    "    #open a file for output\n",
    "    #f = open(output, 'w')\n",
    "    f = safe_open_w(output)\n",
    "\n",
    "    #Pandoc’s Markdown [Metadata blocks](https://pandoc.org/MANUAL.html#metadata-blocks)\n",
    "    #Extension: yaml_metadata_block\n",
    "    #\n",
    "    #\\n\n",
    "    #title:\n",
    "    #author:\n",
    "    #keywords:\n",
    "    #abstract:\n",
    "    #\n",
    "    #print ('\\n')\n",
    "    #print ('title: \"', data['title'], '\"', file=f)\n",
    "    #print ('author: \"', data['author'], '\"', file=f)\n",
    "    #print ('% ', data['date'], file=f)\n",
    "    #print ('\"subtitle\": \"', data['subtitle'], '\"', file=f)\n",
    "    #print ('\"description\": \"', data['description'], '\"', file=f)\n",
    "    #print ('\"lang\": \"', data['lang'], '\"', file=f)\n",
    "    \n",
    "    \n",
    "    \n",
    "    \n",
    "    #print (\"\\n---\\n\", file=f)\n",
    "\n",
    "    print (data['documentBody'], file=f)\n",
    "\n",
    "    \n",
    "    print (\"\\n---\\n\", file=f)\n",
    "\n",
    "    \n",
    "    print (\"# Revision history\", file=f)\n",
    "    print (\"\\n\")\n",
    "    \n",
    "    #print the revisions as a table in HTML because CommonMark doesnt do that\n",
    "\n",
    "    #table style\n",
    "    print (\"<style>\", file=f)\n",
    "    print (\"table { border-collapse: collapse; width: 100%; }\", file=f)\n",
    "    print (\"td, th { border: 1px solid #dddddd; text-align: left; padding: 8px; }\", file=f)\n",
    "    print (\"</style>\", file=f)\n",
    "    print (\"\\n\")\n",
    "    \n",
    "    #Table layout:  \"date\", \"status\", \"name\", \"reason\"\n",
    "    print (\"<table>\", file=f)\n",
    "    print (\"<tr>\", file=f)\n",
    "    print (\"<th>Date</th>\", file=f)\n",
    "    print (\"<th>Name</th>\", file=f)\n",
    "    print (\"<th>Reason</th>\", file=f)\n",
    "    print (\"</tr>\", file=f)\n",
    "    #the 'revisions' key consists of a list of sets\n",
    "    #`content['revision'][0]['date']` will provide that specific data element\n",
    "    for element in data['revision']:  #step through the list elements\n",
    "        print (\"<tr>\", file=f)\n",
    "        #now print the fields\n",
    "        print (\"<td>\",element['date'],\"</td>\", file=f)\n",
    "        print (\"<td>\",element['name'],\"</td>\", file=f)\n",
    "        print (\"<td>\",element['reason'],\"</td>\", file=f)\n",
    "        print (\"</tr>\", file=f)\n",
    "    print (\"</table>\", file=f)\n",
    "\n",
    "    f.close()  #close the file"
   ]
  },
  {
   "cell_type": "markdown",
   "metadata": {},
   "source": [
    "### convert2md(), convert2html(), convert2pdf"
   ]
  },
  {
   "cell_type": "code",
   "execution_count": null,
   "metadata": {},
   "outputs": [],
   "source": [
    "#convert the pandoc file to MarkDown\n",
    "import subprocess\n",
    "\n",
    "def convert2md():\n",
    "    subprocess.run(['pandoc', content['id']+'.pandoc', '--html-q-tags', '-s', '-o', content['id']+'.md'])"
   ]
  },
  {
   "cell_type": "code",
   "execution_count": null,
   "metadata": {},
   "outputs": [],
   "source": [
    "#convert the pandoc file to html\n",
    "import subprocess\n",
    "\n",
    "def convert2html():\n",
    "    subprocess.run(['pandoc', content['id']+'.pandoc', '--html-q-tags', '-s', '-o', content['id']+'.html'])"
   ]
  },
  {
   "cell_type": "markdown",
   "metadata": {},
   "source": [
    "the pdf conversion is generating errors"
   ]
  },
  {
   "cell_type": "code",
   "execution_count": null,
   "metadata": {},
   "outputs": [],
   "source": [
    "#convert the pandoc file to pdf\n",
    "import subprocess\n",
    "\n",
    "def convert2pdf():\n",
    "    subprocess.run(['pandoc', content['id']+'.pandoc', \"-o\", content['id']+'.pdf'])"
   ]
  },
  {
   "cell_type": "markdown",
   "metadata": {},
   "source": [
    "## main program"
   ]
  },
  {
   "cell_type": "markdown",
   "metadata": {},
   "source": [
    "### find the files that need to be processed"
   ]
  },
  {
   "cell_type": "code",
   "execution_count": 33,
   "metadata": {
    "jupyter": {
     "source_hidden": true
    }
   },
   "outputs": [],
   "source": [
    "#look for all the yaml files\n",
    "\n",
    "srcFiles = find('*'+extentions['yaml'], srcDir)\n",
    "#srcFiles"
   ]
  },
  {
   "cell_type": "markdown",
   "metadata": {},
   "source": [
    "### process each file"
   ]
  },
  {
   "cell_type": "code",
   "execution_count": 32,
   "metadata": {},
   "outputs": [
    {
     "name": "stdout",
     "output_type": "stream",
     "text": [
      "./src/32f2e7dc-0d00-4bd9-b39f-9d5b562f8415.yaml\n",
      "./src/ad9c7149-fa91-4e62-a86b-fdc4387840d1.yaml\n",
      "./src/1e7c647e-93d7-455d-b5a5-fd7205ca1b14.yaml\n",
      "./src/cd498dae-9287-4432-91a3-97adf1ea4dd6.yaml\n",
      "./src/c54c285f-eeb4-4a42-815f-9ea0656265e2.yaml\n",
      "./src/ebd4a2a1-1c57-4dfb-b13b-c02355a40d74.yaml\n",
      "./src/4480c89d-1da0-4f18-9f8b-f0238333e69a.yaml\n",
      "./src/93a0be83-8e5a-4a46-b264-218646b412ce.yaml\n",
      "./src/4a4d6ec7-4cce-45f8-aa79-df1764058818/4a4d6ec7-4cce-45f8-aa79-df1764058818.yaml\n"
     ]
    }
   ],
   "source": [
    "import yaml\n",
    "\n",
    "for file in srcFiles:\n",
    "    print (file)\n",
    "\n",
    "    content = yaml2python (file)\n",
    "    #print (content)\n",
    "    \n",
    "    #for item, value in content.items():\n",
    "    #    print(item, \":\", value)\n",
    "    \n",
    "    #outputFile=dstDir+\"/\"+content['id']+\"/\"content['id']+extentions['pandoc'] #construct the full destination file/path\n",
    "    #generatePandocFile (data, outputFile)\n",
    "    \n",
    "    #convert2html()\n",
    "    \n",
    "    #save data that will be used for the summary"
   ]
  },
  {
   "cell_type": "markdown",
   "metadata": {},
   "source": [
    "### generate summary file"
   ]
  },
  {
   "cell_type": "code",
   "execution_count": null,
   "metadata": {},
   "outputs": [],
   "source": []
  }
 ],
 "metadata": {
  "kernelspec": {
   "display_name": "Python 3",
   "language": "python",
   "name": "python3"
  },
  "language_info": {
   "codemirror_mode": {
    "name": "ipython",
    "version": 3
   },
   "file_extension": ".py",
   "mimetype": "text/x-python",
   "name": "python",
   "nbconvert_exporter": "python",
   "pygments_lexer": "ipython3",
   "version": "3.6.8"
  },
  "toc-autonumbering": true
 },
 "nbformat": 4,
 "nbformat_minor": 4
}
