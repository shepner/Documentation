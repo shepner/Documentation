{
 "cells": [
  {
   "cell_type": "markdown",
   "metadata": {},
   "source": [
    "# Purpose"
   ]
  },
  {
   "cell_type": "markdown",
   "metadata": {},
   "source": [
    "This notebook will create a template document containing some basic info within S3"
   ]
  },
  {
   "cell_type": "markdown",
   "metadata": {},
   "source": [
    "# Discussion"
   ]
  },
  {
   "cell_type": "markdown",
   "metadata": {},
   "source": [
    "this assumes that\n",
    "* aws credentials have been previously setup\n",
    "* Boto3 has been installed:  `pip3 install boto3`"
   ]
  },
  {
   "cell_type": "markdown",
   "metadata": {
    "toc-hr-collapsed": true
   },
   "source": [
    "# Functions"
   ]
  },
  {
   "cell_type": "code",
   "execution_count": 1,
   "metadata": {},
   "outputs": [],
   "source": [
    "%run \"Functions.ipynb\""
   ]
  },
  {
   "cell_type": "code",
   "execution_count": 2,
   "metadata": {},
   "outputs": [],
   "source": [
    "%run \"Functions_S3.ipynb\""
   ]
  },
  {
   "cell_type": "markdown",
   "metadata": {
    "toc-hr-collapsed": false
   },
   "source": [
    "# main program"
   ]
  },
  {
   "cell_type": "raw",
   "metadata": {},
   "source": [
    "#Note that the name of a bucket must be unique to all of S3 DNS namespace\n",
    "#Names can only start with [a-z0-9] but may include [a-z0-9-_./]\n",
    "\n",
    "#bucket_name = 'Documents' #this will fail\n",
    "#bucket_name = create_unique_name('') #this is safer\n",
    "#bucket_name = create_unique_name('documents'+'--'+str(uuid.uuid4())) #this is easier to directly work with\n",
    "\n",
    "bucket_name = 'documents.asyla.org'\n",
    "\n",
    "#print('bucket_name='+bucket_name)"
   ]
  },
  {
   "cell_type": "code",
   "execution_count": 3,
   "metadata": {},
   "outputs": [],
   "source": [
    "#filename constants\n",
    "document={}\n",
    "document['bucket']='documents.asyla.org'\n",
    "document['contentFile'] = 'content.yaml'\n",
    "document['homepage'] = 'index.html'"
   ]
  },
  {
   "cell_type": "markdown",
   "metadata": {},
   "source": [
    "## Connect to S3"
   ]
  },
  {
   "cell_type": "code",
   "execution_count": 4,
   "metadata": {},
   "outputs": [],
   "source": [
    "import boto3\n",
    "s3 = boto3.resource('s3')"
   ]
  },
  {
   "cell_type": "markdown",
   "metadata": {},
   "source": [
    "## Create bucket if needed"
   ]
  },
  {
   "cell_type": "code",
   "execution_count": 5,
   "metadata": {},
   "outputs": [],
   "source": [
    "if s3.Bucket(document['bucket']).creation_date is None: #there is no date if it doesnt exist\n",
    "    response = create_bucket(document['bucket'], s3)\n",
    "    #print(response)\n",
    "    print ('bucket created')"
   ]
  },
  {
   "cell_type": "markdown",
   "metadata": {},
   "source": [
    "## Create template doc if needed"
   ]
  },
  {
   "cell_type": "code",
   "execution_count": 6,
   "metadata": {},
   "outputs": [],
   "source": [
    "YAMLtemplateName='template.yaml'\n",
    "\n",
    "put_Body = \"\"\"\n",
    "'id': '!' # UUIDv4\n",
    "'title': '!'\n",
    "'subtitle': '!'\n",
    "'author': '!' # who wrote the document\n",
    "'abstract': '!'\n",
    "'lang': '!'\n",
    "'type': '!' # Options: [regulation|policy|standard|guidance|requirement|control|procedure|other]\n",
    "'source': '!'\n",
    "'classification': '!' # Options: [public|private|confidential]\n",
    "referenceTag:\n",
    "  keywords:\n",
    "    - '!'\n",
    "  relationship: '!' # Format: `ID : [parent|peer|child]`\n",
    "status: # this section is to provide some automatic documentation management\n",
    "  status: '!' # Options: [draft|review|complete|expire]\n",
    "  effective: '!'\n",
    "  expire: '!'\n",
    "revision:\n",
    "  - date: '!'\n",
    "    name: '!'\n",
    "    reason: '!'\n",
    "'body':  '!'\n",
    "\"\"\"\n",
    "\n",
    "if not does_key_exist(document['bucket'], YAMLtemplateName):\n",
    "    results = s3.Object(document['bucket'], YAMLtemplateName).put(\n",
    "        ACL='bucket-owner-full-control', #the world doesnt really need to look at this\n",
    "        Body=put_Body,\n",
    "        ContentEncoding='utf-8', #its a normal ascii file\n",
    "        ContentType='text/html' #declare its HTML so a browser will open it\n",
    "    )\n",
    "\n",
    "    #print (results)"
   ]
  },
  {
   "cell_type": "markdown",
   "metadata": {
    "toc-hr-collapsed": true
   },
   "source": [
    "## Create a new (yaml) file"
   ]
  },
  {
   "cell_type": "markdown",
   "metadata": {},
   "source": [
    "### Create the key name"
   ]
  },
  {
   "cell_type": "code",
   "execution_count": 7,
   "metadata": {},
   "outputs": [],
   "source": [
    "#UUIDv4 generates random strings so there is a (small) chance of a duplicate\n",
    "\n",
    "while True: #keep trying new names until we get a unique one\n",
    "    import uuid\n",
    "    names = fileNamePart (str(uuid.uuid4())) #save all of the purmutations of the name\n",
    "\n",
    "    if not does_key_exist(document['bucket'], names['key_name']): #make sure it doesnt exist\n",
    "        document.update(names)\n",
    "        break #doesnt exist: quit looping\n",
    "        \n",
    "#generate the homepage full key (dir + homepage filename)\n",
    "document['documentHomepage']=document['dir']+document['homepage'] #this is the keyname the document will be compiled into\n",
    "\n",
    "#document"
   ]
  },
  {
   "cell_type": "markdown",
   "metadata": {},
   "source": [
    "### Collect nessessary info"
   ]
  },
  {
   "cell_type": "code",
   "execution_count": 8,
   "metadata": {},
   "outputs": [],
   "source": [
    "#fetch the current template\n",
    "\n",
    "YAMLcontent = s3.Object(document['bucket'], YAMLtemplateName).get()['Body'].read().decode('utf-8') \n",
    "\n",
    "from ruamel.yaml import YAML #[ruamel.yaml documentation](https://yaml.readthedocs.io/en/latest/index.html)\n",
    "yaml = YAML()\n",
    "YAMLdata = yaml.load(YAMLcontent) #read the YAML file content into an OrderdDictionary\n",
    "\n",
    "YAMLdata['id'] = document['base_name']\n",
    "YAMLdata['lang'] = 'en'\n",
    "YAMLdata['type'] = 'other'\n",
    "YAMLdata['classification'] = 'public'\n",
    "YAMLdata['status']['status'] = 'draft'\n",
    "\n",
    "from datetime import date\n",
    "YAMLdata['revision'][0]['date'] = date.today().strftime('%Y%m%d')\n",
    "YAMLdata['revision'][0]['name'] = 'system'\n",
    "YAMLdata['revision'][0]['reason'] = 'generated from template'\n",
    "\n",
    "#print (yamlDump(YAMLdata))"
   ]
  },
  {
   "cell_type": "code",
   "execution_count": 9,
   "metadata": {},
   "outputs": [
    {
     "name": "stdin",
     "output_type": "stream",
     "text": [
      "title: ! wqeav\n",
      "subtitle: ! \n",
      "author: ! \n",
      "abstract: ! \n",
      "type: other \n",
      "source: ! \n"
     ]
    }
   ],
   "source": [
    "#prompt the user for input on certain fields\n",
    "\n",
    "#walk the data structure\n",
    "for key, value in YAMLdata.items():\n",
    "    #print (key, value)\n",
    "\n",
    "    if (key == 'title') or (key == 'subtitle') or (key == 'author') or (key == 'abstract') or (key == 'type') or (key == 'source'):\n",
    "        data = input(key+': '+value)\n",
    "        if data != '': YAMLdata[key] = data\n",
    "\n",
    "#print(yamlDump(YAMLdata))"
   ]
  },
  {
   "cell_type": "markdown",
   "metadata": {},
   "source": [
    "### Auto-set the S3 object params"
   ]
  },
  {
   "cell_type": "code",
   "execution_count": 10,
   "metadata": {},
   "outputs": [],
   "source": [
    "#set the file permissions:\n",
    "#https://boto3.amazonaws.com/v1/documentation/api/latest/reference/services/s3.html#S3.Object.put\n",
    "#ACL='private'|'public-read'|'public-read-write'|'authenticated-read'|'aws-exec-read'|'bucket-owner-read'|'bucket-owner-full-control',\n",
    "\n",
    "#print (content['classification'])\n",
    "\n",
    "import re\n",
    "if re.search('public', YAMLdata['classification'], flags=re.IGNORECASE):\n",
    "    put_ACL='public-read'\n",
    "elif re.search('private', YAMLdata['classification'], flags=re.IGNORECASE):\n",
    "    put_ACL='authenticated-read'\n",
    "else:\n",
    "    put_ACL='private'"
   ]
  },
  {
   "cell_type": "code",
   "execution_count": 11,
   "metadata": {},
   "outputs": [],
   "source": [
    "#set the file's metadata\n",
    "put_Metadata = { 'classification': YAMLdata['classification'] }"
   ]
  },
  {
   "cell_type": "markdown",
   "metadata": {},
   "source": [
    "### Write the source file to S3"
   ]
  },
  {
   "cell_type": "code",
   "execution_count": 12,
   "metadata": {},
   "outputs": [],
   "source": [
    "#https://boto3.amazonaws.com/v1/documentation/api/latest/reference/services/s3.html#S3.Object.put\n",
    "results = s3.Object(document['bucket'], document['key_name']).put(\n",
    "    ACL=put_ACL,\n",
    "    Body=yamlDump(YAMLdata),\n",
    "    ContentEncoding='utf-8',\n",
    "    ContentLanguage=YAMLdata['lang'],\n",
    "    ContentType='text/plain',\n",
    "    Metadata=put_Metadata\n",
    ")\n",
    "\n",
    "#print (results)"
   ]
  },
  {
   "cell_type": "markdown",
   "metadata": {},
   "source": [
    "## Compile document"
   ]
  },
  {
   "cell_type": "code",
   "execution_count": 13,
   "metadata": {},
   "outputs": [
    {
     "name": "stdout",
     "output_type": "stream",
     "text": [
      "Null body\n"
     ]
    }
   ],
   "source": [
    "#generate the html version of the document\n",
    "results = compilePandocDocument (document['bucket'], document['dir'], YAMLdata) #generate the Pandoc formatted document\n",
    "put_Body = bytearray(convertPandoc2Html (results), encoding='utf-8') #convert from Pandoc to HTML and save the results in bin format\n",
    "\n",
    "#print (convertPandoc2Html (results))\n",
    "\n",
    "#save the file to S3\n",
    "results = s3.Object(document['bucket'], document['documentHomepage']).put(\n",
    "    ACL='public-read', #this needs fixed to match the source doc's permissions\n",
    "    Body=put_Body,\n",
    "    ContentEncoding='utf-8', #its a normal ascii file\n",
    "    ContentType='text/html' #declare its HTML so the browser will open it\n",
    ")\n",
    "\n",
    "#print (results)"
   ]
  },
  {
   "cell_type": "markdown",
   "metadata": {},
   "source": [
    "## Update the database"
   ]
  },
  {
   "cell_type": "markdown",
   "metadata": {},
   "source": [
    "The `contents.yaml` will be structured as follows:\n",
    "\n",
    "``` yaml\n",
    "id1:\n",
    "  record1\n",
    "id2:\n",
    "  record2\n",
    "idN:\n",
    "  recordN\n",
    "```\n",
    "\n",
    "Where 'id' is the ID of the file and 'record' contains all but 'body'"
   ]
  },
  {
   "cell_type": "markdown",
   "metadata": {},
   "source": [
    "### Format new record"
   ]
  },
  {
   "cell_type": "code",
   "execution_count": 14,
   "metadata": {},
   "outputs": [
    {
     "name": "stdout",
     "output_type": "stream",
     "text": [
      "https://s3.amazonaws.com/documents.asyla.org/ac/fb/4b/bc/db/acd938f8-fbe3-4bda-bc6e-dbef0b590f17.ymal\n",
      "https://s3.amazonaws.com/documents.asyla.org/ac/fb/4b/bc/db/acd938f8-fbe3-4bda-bc6e-dbef0b590f17index.html\n"
     ]
    }
   ],
   "source": [
    "#we dont want to save these in the DB file\n",
    "#Note: .pop() also returns the value that (was) in there\n",
    "YAMLdata.pop('id',None)\n",
    "YAMLdata.pop('body',None)\n",
    "\n",
    "#add in the additional info that has been generated\n",
    "YAMLdata['url']={}\n",
    "YAMLdata['url']['sourceYaml'] = getKeyURL(document['bucket'], document['key_name']) #fetch the URL of the source YAML file\n",
    "YAMLdata['url']['documentHomepage'] = getKeyURL(document['bucket'], document['documentHomepage']) #fetch the URL of the dir's main page\n",
    "\n",
    "print (YAMLdata['url']['sourceYaml'])\n",
    "print (YAMLdata['url']['documentHomepage'])\n",
    "#print(yamlDump(YAMLdata))"
   ]
  },
  {
   "cell_type": "markdown",
   "metadata": {},
   "source": [
    "### Update the tracking DB with latest info"
   ]
  },
  {
   "cell_type": "code",
   "execution_count": 15,
   "metadata": {},
   "outputs": [],
   "source": [
    "results = updateDatabase(document['bucket'], document['contentFile'], document['base_name'], YAMLdata)\n",
    "#print (results)"
   ]
  },
  {
   "cell_type": "markdown",
   "metadata": {},
   "source": [
    "## Update the Table of Contents"
   ]
  },
  {
   "cell_type": "code",
   "execution_count": 16,
   "metadata": {},
   "outputs": [],
   "source": [
    "from ruamel.yaml import YAML #[ruamel.yaml documentation](https://yaml.readthedocs.io/en/latest/index.html)\n",
    "yaml = YAML()\n",
    "\n",
    "dbContent = {} #create an empty dictionary\n",
    "\n",
    "if does_key_exist(document['bucket'], document['contentFile']):\n",
    "    #fetch the DB and return it as a string\n",
    "    #https://boto3.amazonaws.com/v1/documentation/api/latest/reference/services/s3.html#S3.Object.get\n",
    "    #https://stackoverflow.com/questions/31976273/open-s3-object-as-a-string-with-boto3#35376156\n",
    "    fileBody = s3.Object(document['bucket'], document['contentFile']).get()['Body'].read().decode('utf-8') \n",
    "    #print (fileBody)\n",
    "\n",
    "    dbContent = yaml.load(fileBody) #read the file into an OrderdDictionary"
   ]
  },
  {
   "cell_type": "code",
   "execution_count": 17,
   "metadata": {},
   "outputs": [
    {
     "name": "stdout",
     "output_type": "stream",
     "text": [
      "\n",
      "---\n",
      "'title': Table of Contents\n",
      "'lang': en\n",
      "...\n",
      "\n",
      "* [dsfgadfsg](https://s3.amazonaws.com/documents.asyla.org/18/48/4a/8c/c6/18276360-48e8-4a4e-8c46-c6aa15f68a67index.html) [[yaml](https://s3.amazonaws.com/documents.asyla.org/18/48/4a/8c/c6/18276360-48e8-4a4e-8c46-c6aa15f68a67.ymal)]\n",
      "* [lkansdxc](https://s3.amazonaws.com/documents.asyla.org/0e/3e/48/bc/fc/0ece5805-3e7a-4829-bc74-fcb9b3a9e9a0index.html) [[yaml](https://s3.amazonaws.com/documents.asyla.org/0e/3e/48/bc/fc/0ece5805-3e7a-4829-bc74-fcb9b3a9e9a0.ymal)]\n",
      "* [wqeav](https://s3.amazonaws.com/documents.asyla.org/ac/fb/4b/bc/db/acd938f8-fbe3-4bda-bc6e-dbef0b590f17index.html) [[yaml](https://s3.amazonaws.com/documents.asyla.org/ac/fb/4b/bc/db/acd938f8-fbe3-4bda-bc6e-dbef0b590f17.ymal)]\n",
      "\n"
     ]
    }
   ],
   "source": [
    "output=\"\"\"\n",
    "---\n",
    "'title': Table of Contents\n",
    "'lang': en\n",
    "...\n",
    "\n",
    "\"\"\"\n",
    "\n",
    "for key in dbContent:\n",
    "    output += '* ['+dbContent[key]['title']+']('+dbContent[key]['url']['documentHomepage']+') '\n",
    "    output += '[[yaml]('+dbContent[key]['url']['sourceYaml']+')]\\n'\n",
    "\n",
    "print (output)"
   ]
  },
  {
   "cell_type": "code",
   "execution_count": 18,
   "metadata": {},
   "outputs": [],
   "source": [
    "#generate the html version of the document\n",
    "put_Body = bytearray(convertPandoc2Html (output), encoding='utf-8') #convert from Pandoc to HTML and save the results in bin format\n",
    "\n",
    "#print (convertPandoc2Html (output))\n",
    "\n",
    "#save the file to S3\n",
    "results = s3.Object(document['bucket'], document['homepage']).put(\n",
    "    ACL='public-read', #make this viewable by everyone\n",
    "    Body=put_Body,\n",
    "    ContentEncoding='utf-8', #its a normal ascii file\n",
    "    ContentType='text/html' #declare its HTML so the browser will open it\n",
    ")\n",
    "\n",
    "#print (results)"
   ]
  },
  {
   "cell_type": "code",
   "execution_count": 19,
   "metadata": {},
   "outputs": [
    {
     "name": "stdout",
     "output_type": "stream",
     "text": [
      "https://s3.amazonaws.com/documents.asyla.org/index.html\n"
     ]
    }
   ],
   "source": [
    "print (getKeyURL(document['bucket'], document['homepage']))"
   ]
  },
  {
   "cell_type": "code",
   "execution_count": null,
   "metadata": {},
   "outputs": [],
   "source": []
  }
 ],
 "metadata": {
  "kernelspec": {
   "display_name": "Python 3",
   "language": "python",
   "name": "python3"
  },
  "language_info": {
   "codemirror_mode": {
    "name": "ipython",
    "version": 3
   },
   "file_extension": ".py",
   "mimetype": "text/x-python",
   "name": "python",
   "nbconvert_exporter": "python",
   "pygments_lexer": "ipython3",
   "version": "3.6.8"
  },
  "toc-autonumbering": true
 },
 "nbformat": 4,
 "nbformat_minor": 4
}
