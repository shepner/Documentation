{
 "cells": [
  {
   "cell_type": "markdown",
   "metadata": {},
   "source": [
    "# Purpose"
   ]
  },
  {
   "cell_type": "markdown",
   "metadata": {},
   "source": [
    "This notebook will create a template document containing some basic info within S3"
   ]
  },
  {
   "cell_type": "markdown",
   "metadata": {},
   "source": [
    "# Discussion"
   ]
  },
  {
   "cell_type": "markdown",
   "metadata": {},
   "source": [
    "this assumes that\n",
    "* aws credentials have been previously setup\n",
    "* Boto3 has been installed:  `pip3 install boto3`"
   ]
  },
  {
   "cell_type": "markdown",
   "metadata": {
    "toc-hr-collapsed": true
   },
   "source": [
    "# Functions"
   ]
  },
  {
   "cell_type": "code",
   "execution_count": 71,
   "metadata": {},
   "outputs": [],
   "source": [
    "%run \"Functions.ipynb\""
   ]
  },
  {
   "cell_type": "code",
   "execution_count": 70,
   "metadata": {},
   "outputs": [],
   "source": [
    "%run \"Functions_S3.ipynb\""
   ]
  },
  {
   "cell_type": "markdown",
   "metadata": {
    "toc-hr-collapsed": false
   },
   "source": [
    "# main program"
   ]
  },
  {
   "cell_type": "markdown",
   "metadata": {},
   "source": [
    "## Connect to S3"
   ]
  },
  {
   "cell_type": "code",
   "execution_count": 32,
   "metadata": {},
   "outputs": [],
   "source": [
    "import boto3\n",
    "s3 = boto3.resource('s3')"
   ]
  },
  {
   "cell_type": "code",
   "execution_count": 33,
   "metadata": {},
   "outputs": [
    {
     "name": "stdout",
     "output_type": "stream",
     "text": [
      "bucket_name=documents--88767106-9edc-4028-a451-0da43b669d7f\n"
     ]
    }
   ],
   "source": [
    "#Note that the name of a bucket must be unique to all of S3 DNS namespace\n",
    "#Names can only start with [a-z0-9] but may include [a-z0-9-_./]\n",
    "\n",
    "#bucket_name = 'Documents' #this will fail\n",
    "#bucket_name = create_unique_name('') #this is safer\n",
    "#bucket_name = create_unique_name('documents'+'--'+str(uuid.uuid4())) #this is easier to directly work with\n",
    "\n",
    "bucket_name = 'documents--88767106-9edc-4028-a451-0da43b669d7f' #hardcode this so it doesnt change\n",
    "#bucket_name = 'testname.asyla.org'\n",
    "\n",
    "print('bucket_name='+bucket_name)"
   ]
  },
  {
   "cell_type": "markdown",
   "metadata": {},
   "source": [
    "## Create bucket if needed"
   ]
  },
  {
   "cell_type": "code",
   "execution_count": 34,
   "metadata": {},
   "outputs": [],
   "source": [
    "if s3.Bucket(bucket_name).creation_date is None: #there is no date if it doesnt exist\n",
    "    response = create_bucket(bucket_name, s3)\n",
    "    #print(response)\n",
    "    print ('bucket created')"
   ]
  },
  {
   "cell_type": "markdown",
   "metadata": {
    "toc-hr-collapsed": true
   },
   "source": [
    "## Create a new (yaml) file"
   ]
  },
  {
   "cell_type": "markdown",
   "metadata": {},
   "source": [
    "### Create the name"
   ]
  },
  {
   "cell_type": "code",
   "execution_count": 35,
   "metadata": {},
   "outputs": [
    {
     "name": "stdout",
     "output_type": "stream",
     "text": [
      "document['dir']=37/2a/46/a8/25/37519f77-2ab3-4633-a8b1-2548c442ee73\n"
     ]
    }
   ],
   "source": [
    "import uuid\n",
    "document = fileNamePart (str(uuid.uuid4())) #save all of the purmutations of the name\n",
    "#document"
   ]
  },
  {
   "cell_type": "markdown",
   "metadata": {},
   "source": [
    "### Ensure the file doesnt already exist"
   ]
  },
  {
   "cell_type": "code",
   "execution_count": 36,
   "metadata": {},
   "outputs": [],
   "source": [
    "#make sure the file does not exist\n",
    "#UUIDv4 generates random strings so there is a (small) chance of a duplicate\n",
    "import sys\n",
    "\n",
    "if does_key_exist(bucket_name, document['key_name']):\n",
    "    #print ('ERROR: File exists: '+document['key_name'])\n",
    "    sys.exit('ERROR: File exists: '+document['key_name'])"
   ]
  },
  {
   "cell_type": "markdown",
   "metadata": {},
   "source": [
    "### Collect nessessary info"
   ]
  },
  {
   "cell_type": "code",
   "execution_count": 37,
   "metadata": {},
   "outputs": [],
   "source": [
    "#Using YAML format for the document template because its what this will end up as and base Python structures dont play well with comments\n",
    "\n",
    "from datetime import date\n",
    "\n",
    "YAMLcontent = \"\"\"\n",
    "'id': \"\"\"+document['base_name']+\"\"\" # UUIDv4\n",
    "'title': '!'\n",
    "'subtitle': '!'\n",
    "'author': '!' # who wrote the document\n",
    "'abstract': '!'\n",
    "'lang': 'en'\n",
    "'type': '!' # Options: [regulation|policy|standard|guidance|requirement|control|procedure]\n",
    "'source': '!'\n",
    "'classification': 'public' # Options: [public|private|confidential]\n",
    "referenceTag:\n",
    "  keywords:\n",
    "    - '!'\n",
    "  relationship: '!' # Format: `ID : [parent|peer|child]`\n",
    "status: # this section is to provide some automatic documentation management\n",
    "  status: draft # Options: [draft|review|complete|expire]\n",
    "  effective: '!'\n",
    "  expire: '!'\n",
    "revision:\n",
    "  - date: '\"\"\"+date.today().strftime('%Y%m%d')+\"\"\"'\n",
    "    name: N/A\n",
    "    reason: Initial template created\n",
    "'body':  |\n",
    "  # Blank template\n",
    "\n",
    "  Put your text here.\n",
    "\"\"\"\n",
    "\n",
    "#print (YAMLcontent)"
   ]
  },
  {
   "cell_type": "code",
   "execution_count": 38,
   "metadata": {},
   "outputs": [
    {
     "name": "stdin",
     "output_type": "stream",
     "text": [
      "title: ! \n",
      "subtitle: ! \n",
      "author: ! \n",
      "abstract: ! \n",
      "type: ! \n",
      "source: ! \n"
     ]
    }
   ],
   "source": [
    "#prompt the user for input on certain fields\n",
    "\n",
    "from ruamel.yaml import YAML #[ruamel.yaml documentation](https://yaml.readthedocs.io/en/latest/index.html)\n",
    "yaml = YAML()\n",
    "\n",
    "YAMLdata = yaml.load(YAMLcontent) #Convert the YAML text into an OrderdDictionary\n",
    "\n",
    "#walk the data structure\n",
    "for key, value in YAMLdata.items():\n",
    "    #print (key, value)\n",
    "\n",
    "    if (key == 'title') or (key == 'subtitle') or (key == 'author') or (key == 'abstract') or (key == 'type') or (key == 'source'):\n",
    "        data = input(key+': '+value)\n",
    "        if data != '': YAMLdata[key] = data\n",
    "\n",
    "#print (YAMLdata)"
   ]
  },
  {
   "cell_type": "markdown",
   "metadata": {},
   "source": [
    "### Set the S3 object params"
   ]
  },
  {
   "cell_type": "code",
   "execution_count": 39,
   "metadata": {},
   "outputs": [],
   "source": [
    "#set the file permissions:\n",
    "#https://boto3.amazonaws.com/v1/documentation/api/latest/reference/services/s3.html#S3.Object.put\n",
    "#ACL='private'|'public-read'|'public-read-write'|'authenticated-read'|'aws-exec-read'|'bucket-owner-read'|'bucket-owner-full-control',\n",
    "\n",
    "#print (content['classification'])\n",
    "\n",
    "import re\n",
    "if re.search('public', YAMLdata['classification'], flags=re.IGNORECASE):\n",
    "    put_ACL='public-read'\n",
    "elif re.search('private', YAMLdata['classification'], flags=re.IGNORECASE):\n",
    "    put_ACL='authenticated-read'\n",
    "else:\n",
    "    put_ACL='private'"
   ]
  },
  {
   "cell_type": "code",
   "execution_count": 40,
   "metadata": {},
   "outputs": [],
   "source": [
    "#set the file's metadata\n",
    "put_Metadata = { 'classification': YAMLdata['classification'] }"
   ]
  },
  {
   "cell_type": "markdown",
   "metadata": {},
   "source": [
    "### Write the file to S3"
   ]
  },
  {
   "cell_type": "code",
   "execution_count": 41,
   "metadata": {},
   "outputs": [
    {
     "data": {
      "text/plain": [
       "{'ResponseMetadata': {'RequestId': 'F0F746F54CB7108D',\n",
       "  'HostId': 'R9Ayq3gL+5sllZoKMRbELFysdJG3shwwBVB4dShV+raw+l5UkgvULUqD566slXdzj1ZNk+Az4gg=',\n",
       "  'HTTPStatusCode': 200,\n",
       "  'HTTPHeaders': {'x-amz-id-2': 'R9Ayq3gL+5sllZoKMRbELFysdJG3shwwBVB4dShV+raw+l5UkgvULUqD566slXdzj1ZNk+Az4gg=',\n",
       "   'x-amz-request-id': 'F0F746F54CB7108D',\n",
       "   'date': 'Mon, 25 Nov 2019 02:57:29 GMT',\n",
       "   'etag': '\"541ea8c2d02e7741c9d03b388a7ed554\"',\n",
       "   'content-length': '0',\n",
       "   'server': 'AmazonS3'},\n",
       "  'RetryAttempts': 0},\n",
       " 'ETag': '\"541ea8c2d02e7741c9d03b388a7ed554\"'}"
      ]
     },
     "execution_count": 41,
     "metadata": {},
     "output_type": "execute_result"
    }
   ],
   "source": [
    "#https://boto3.amazonaws.com/v1/documentation/api/latest/reference/services/s3.html#S3.Object.put\n",
    "s3.Object(bucket_name, document['key_name']).put(\n",
    "    ACL=put_ACL,\n",
    "    ContentLanguage=YAMLdata['lang'],\n",
    "    Metadata=put_Metadata,\n",
    "    Body=yamlDump(YAMLdata)\n",
    ")"
   ]
  },
  {
   "cell_type": "markdown",
   "metadata": {},
   "source": [
    "## Compile document"
   ]
  },
  {
   "cell_type": "code",
   "execution_count": 74,
   "metadata": {},
   "outputs": [],
   "source": [
    "#generate the html version of the document\n",
    "\n",
    "import tempfile #https://docs.python.org/3/library/tempfile.html\n",
    "tf = tempfile.NamedTemporaryFile() #create a temp file stored in memory or disk depending on size\n",
    "\n",
    "results = compilePandocDocument (bucket_name, document['dir'], YAMLdata) #generate the Pandoc formatted document\n",
    "#print (results)\n",
    "\n",
    "tf.write(bytearray(results, encoding='utf-8')) #write the file in binary format\n",
    "\n",
    "tf.seek(0) #goto the beginning of the file\n",
    "\n",
    "srcFile = tf.name #This is the name of the file\n",
    "dstFile = srcFile+\".html\"\n",
    "\n",
    "#run Pandoc\n",
    "import subprocess\n",
    "subprocess.run([\n",
    "    'pandoc', \n",
    "        srcFile, \n",
    "        '-s', \n",
    "        '--html-q-tags', \n",
    "        '-f', 'markdown+yaml_metadata_block+pandoc_title_block', \n",
    "        '-t', 'html5', \n",
    "        '-o', dstFile\n",
    "])\n",
    "\n",
    "tf.close() #close/delete the tempfile"
   ]
  },
  {
   "cell_type": "code",
   "execution_count": 75,
   "metadata": {},
   "outputs": [
    {
     "name": "stdout",
     "output_type": "stream",
     "text": [
      "<!DOCTYPE html>\n",
      "<html lang=\"en\">\n",
      "<head>\n",
      "  <meta charset=\"utf-8\">\n",
      "  <meta name=\"generator\" content=\"pandoc\">\n",
      "  <meta name=\"viewport\" content=\"width=device-width, initial-scale=1.0, user-scalable=yes\">\n",
      "  <meta name=\"author\" content=\"!\">\n",
      "  <title>!</title>\n",
      "  <style type=\"text/css\">code{white-space: pre;}</style>\n",
      "  <!--[if lt IE 9]>\n",
      "    <script src=\"//cdnjs.cloudflare.com/ajax/libs/html5shiv/3.7.3/html5shiv-printshiv.min.js\"></script>\n",
      "  <![endif]-->\n",
      "</head>\n",
      "<body>\n",
      "<header>\n",
      "<h1 class=\"title\">!</h1>\n",
      "<p class=\"author\">!</p>\n",
      "</header>\n",
      "<h1 id=\"blank-template\">Blank template</h1>\n",
      "<p>Put your text here.</p>\n",
      "</body>\n",
      "</html>\n",
      "\n"
     ]
    }
   ],
   "source": [
    "f = open(dstFile, 'r')\n",
    "print(f.read())\n",
    "f.close()"
   ]
  },
  {
   "cell_type": "code",
   "execution_count": null,
   "metadata": {},
   "outputs": [],
   "source": [
    "#save the file to S3\n",
    "\n"
   ]
  },
  {
   "cell_type": "markdown",
   "metadata": {},
   "source": [
    "## Update the database"
   ]
  },
  {
   "cell_type": "markdown",
   "metadata": {},
   "source": [
    "The `contents.yaml` will be structured as follows:\n",
    "\n",
    "``` yaml\n",
    "id1:\n",
    "  record1\n",
    "id2:\n",
    "  record2\n",
    "idN:\n",
    "  recordN\n",
    "```\n",
    "\n",
    "Where 'id' is the ID of the file and 'record' contains all but 'body'"
   ]
  },
  {
   "cell_type": "code",
   "execution_count": null,
   "metadata": {},
   "outputs": [],
   "source": [
    "file_name='contents.yaml'"
   ]
  },
  {
   "cell_type": "markdown",
   "metadata": {},
   "source": [
    "### Format new record"
   ]
  },
  {
   "cell_type": "code",
   "execution_count": null,
   "metadata": {},
   "outputs": [],
   "source": [
    "#we dont want to save these in the DB file\n",
    "YAMLdata.pop('id',None)\n",
    "YAMLdata.pop('body',None) \n",
    "YAMLdata"
   ]
  },
  {
   "cell_type": "markdown",
   "metadata": {},
   "source": [
    "#### Fetch the object's URL"
   ]
  },
  {
   "cell_type": "code",
   "execution_count": null,
   "metadata": {},
   "outputs": [],
   "source": [
    "#https://boto3.amazonaws.com/v1/documentation/api/latest/guide/s3-presigned-urls.html\n",
    "#note that this is doing more then just fetching the URL\n",
    "#this is promising but is incomplete:  https://stackoverflow.com/a/48197877/12400492\n",
    "\n",
    "url = boto3.client('s3').generate_presigned_url('get_object',Params={'Bucket': bucket_name,'Key': document['key_name']},ExpiresIn=60*60*24)\n",
    "#print (url)\n",
    "\n",
    "YAMLdata['object_url'] = url.split('?')[0] #for now, just remove the extra stuff\n",
    "\n",
    "print (YAMLdata['object_url'])"
   ]
  },
  {
   "cell_type": "markdown",
   "metadata": {},
   "source": [
    "### Update the tracking DB with latest info"
   ]
  },
  {
   "cell_type": "code",
   "execution_count": null,
   "metadata": {},
   "outputs": [],
   "source": [
    "updateDatabase(bucket_name, file_name, document['base_name'], YAMLdata)"
   ]
  },
  {
   "cell_type": "code",
   "execution_count": null,
   "metadata": {},
   "outputs": [],
   "source": []
  }
 ],
 "metadata": {
  "kernelspec": {
   "display_name": "Python 3",
   "language": "python",
   "name": "python3"
  },
  "language_info": {
   "codemirror_mode": {
    "name": "ipython",
    "version": 3
   },
   "file_extension": ".py",
   "mimetype": "text/x-python",
   "name": "python",
   "nbconvert_exporter": "python",
   "pygments_lexer": "ipython3",
   "version": "3.6.8"
  },
  "toc-autonumbering": true
 },
 "nbformat": 4,
 "nbformat_minor": 4
}
