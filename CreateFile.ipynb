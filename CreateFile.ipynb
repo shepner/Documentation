{
 "cells": [
  {
   "cell_type": "markdown",
   "metadata": {},
   "source": [
    "# Purpose"
   ]
  },
  {
   "cell_type": "markdown",
   "metadata": {},
   "source": [
    "This notebook will create a template document containing some basic info within S3"
   ]
  },
  {
   "cell_type": "markdown",
   "metadata": {},
   "source": [
    "# Discussion"
   ]
  },
  {
   "cell_type": "markdown",
   "metadata": {},
   "source": [
    "this assumes that\n",
    "* aws credentials have been previously setup\n",
    "* Boto3 has been installed:  `pip3 install boto3`"
   ]
  },
  {
   "cell_type": "markdown",
   "metadata": {
    "toc-hr-collapsed": true
   },
   "source": [
    "# Functions"
   ]
  },
  {
   "cell_type": "code",
   "execution_count": 22,
   "metadata": {},
   "outputs": [],
   "source": [
    "%run \"Functions.ipynb\""
   ]
  },
  {
   "cell_type": "code",
   "execution_count": 20,
   "metadata": {},
   "outputs": [],
   "source": [
    "%run \"Functions_S3.ipynb\""
   ]
  },
  {
   "cell_type": "markdown",
   "metadata": {
    "toc-hr-collapsed": false
   },
   "source": [
    "# main program"
   ]
  },
  {
   "cell_type": "markdown",
   "metadata": {},
   "source": [
    "## Connect to S3"
   ]
  },
  {
   "cell_type": "code",
   "execution_count": 3,
   "metadata": {},
   "outputs": [],
   "source": [
    "import boto3\n",
    "s3 = boto3.resource('s3')"
   ]
  },
  {
   "cell_type": "code",
   "execution_count": 4,
   "metadata": {},
   "outputs": [
    {
     "name": "stdout",
     "output_type": "stream",
     "text": [
      "bucket_name=documents--88767106-9edc-4028-a451-0da43b669d7f\n"
     ]
    }
   ],
   "source": [
    "#Note that the name of a bucket must be unique to all of S3 DNS namespace\n",
    "#Names can only start with [a-z0-9] but may include [a-z0-9-_./]\n",
    "\n",
    "#bucket_name = 'Documents' #this will fail\n",
    "#bucket_name = create_unique_name('') #this is safer\n",
    "#bucket_name = create_unique_name('documents'+'--'+str(uuid.uuid4())) #this is easier to directly work with\n",
    "\n",
    "bucket_name = 'documents--88767106-9edc-4028-a451-0da43b669d7f' #hardcode this so it doesnt change\n",
    "#bucket_name = 'testname.asyla.org'\n",
    "\n",
    "print('bucket_name='+bucket_name)"
   ]
  },
  {
   "cell_type": "markdown",
   "metadata": {},
   "source": [
    "## Create bucket if needed"
   ]
  },
  {
   "cell_type": "code",
   "execution_count": 5,
   "metadata": {},
   "outputs": [],
   "source": [
    "if s3.Bucket(bucket_name).creation_date is None: #there is no date if it doesnt exist\n",
    "    response = create_bucket(bucket_name, s3)\n",
    "    #print(response)\n",
    "    print ('bucket created')"
   ]
  },
  {
   "cell_type": "markdown",
   "metadata": {
    "toc-hr-collapsed": true
   },
   "source": [
    "## Create a new (yaml) file"
   ]
  },
  {
   "cell_type": "markdown",
   "metadata": {},
   "source": [
    "### Create the name"
   ]
  },
  {
   "cell_type": "code",
   "execution_count": 6,
   "metadata": {},
   "outputs": [],
   "source": [
    "import uuid\n",
    "document = fileNamePart (str(uuid.uuid4())) #save all of the purmutations of the name\n",
    "#document"
   ]
  },
  {
   "cell_type": "markdown",
   "metadata": {},
   "source": [
    "### Ensure the file doesnt already exist"
   ]
  },
  {
   "cell_type": "code",
   "execution_count": 7,
   "metadata": {},
   "outputs": [],
   "source": [
    "#make sure the file does not exist\n",
    "#UUIDv4 generates random strings so there is a (small) chance of a duplicate\n",
    "import sys\n",
    "\n",
    "if does_key_exist(bucket_name, document['key_name']):\n",
    "    #print ('ERROR: File exists: '+document['key_name'])\n",
    "    sys.exit('ERROR: File exists: '+document['key_name'])"
   ]
  },
  {
   "cell_type": "markdown",
   "metadata": {},
   "source": [
    "### Collect nessessary info"
   ]
  },
  {
   "cell_type": "code",
   "execution_count": 8,
   "metadata": {},
   "outputs": [],
   "source": [
    "#Using YAML format for the document template because its what this will end up as and base Python structures dont play well with comments\n",
    "\n",
    "from datetime import date\n",
    "\n",
    "YAMLcontent = \"\"\"\n",
    "'id': \"\"\"+document['base_name']+\"\"\" # UUIDv4\n",
    "'title': '!'\n",
    "'subtitle': '!'\n",
    "'author': '!' # who wrote the document\n",
    "'abstract': '!'\n",
    "'lang': 'en'\n",
    "'type': '!' # Options: [regulation|policy|standard|guidance|requirement|control|procedure]\n",
    "'source': '!'\n",
    "'classification': 'public' # Options: [public|private|confidential]\n",
    "referenceTag:\n",
    "  keywords:\n",
    "    - '!'\n",
    "  relationship: '!' # Format: `ID : [parent|peer|child]`\n",
    "status: # this section is to provide some automatic documentation management\n",
    "  status: draft # Options: [draft|review|complete|expire]\n",
    "  effective: '!'\n",
    "  expire: '!'\n",
    "revision:\n",
    "  - date: '\"\"\"+date.today().strftime('%Y%m%d')+\"\"\"'\n",
    "    name: N/A\n",
    "    reason: Initial template created\n",
    "'body':  |\n",
    "  # Blank template\n",
    "\n",
    "  Put your text here.\n",
    "\"\"\"\n",
    "\n",
    "#print (YAMLcontent)"
   ]
  },
  {
   "cell_type": "code",
   "execution_count": 9,
   "metadata": {},
   "outputs": [
    {
     "name": "stdin",
     "output_type": "stream",
     "text": [
      "title: ! \n",
      "subtitle: ! \n",
      "author: ! \n",
      "abstract: ! \n",
      "type: ! \n",
      "source: ! \n"
     ]
    }
   ],
   "source": [
    "#prompt the user for input on certain fields\n",
    "\n",
    "from ruamel.yaml import YAML #[ruamel.yaml documentation](https://yaml.readthedocs.io/en/latest/index.html)\n",
    "yaml = YAML()\n",
    "\n",
    "YAMLdata = yaml.load(YAMLcontent) #Convert the YAML text into an OrderdDictionary\n",
    "\n",
    "#walk the data structure\n",
    "for key, value in YAMLdata.items():\n",
    "    #print (key, value)\n",
    "\n",
    "    if (key == 'title') or (key == 'subtitle') or (key == 'author') or (key == 'abstract') or (key == 'type') or (key == 'source'):\n",
    "        data = input(key+': '+value)\n",
    "        if data != '': YAMLdata[key] = data\n",
    "\n",
    "#print (YAMLdata)"
   ]
  },
  {
   "cell_type": "markdown",
   "metadata": {},
   "source": [
    "### Set the S3 object params"
   ]
  },
  {
   "cell_type": "code",
   "execution_count": 11,
   "metadata": {},
   "outputs": [],
   "source": [
    "#set the file permissions:\n",
    "#https://boto3.amazonaws.com/v1/documentation/api/latest/reference/services/s3.html#S3.Object.put\n",
    "#ACL='private'|'public-read'|'public-read-write'|'authenticated-read'|'aws-exec-read'|'bucket-owner-read'|'bucket-owner-full-control',\n",
    "\n",
    "#print (content['classification'])\n",
    "\n",
    "import re\n",
    "if re.search('public', YAMLdata['classification'], flags=re.IGNORECASE):\n",
    "    put_ACL='public-read'\n",
    "elif re.search('private', YAMLdata['classification'], flags=re.IGNORECASE):\n",
    "    put_ACL='authenticated-read'\n",
    "else:\n",
    "    put_ACL='private'"
   ]
  },
  {
   "cell_type": "code",
   "execution_count": 12,
   "metadata": {},
   "outputs": [],
   "source": [
    "#set the file's metadata\n",
    "put_Metadata = { 'classification': YAMLdata['classification'] }"
   ]
  },
  {
   "cell_type": "markdown",
   "metadata": {},
   "source": [
    "### Write the file to S3"
   ]
  },
  {
   "cell_type": "code",
   "execution_count": 13,
   "metadata": {},
   "outputs": [
    {
     "data": {
      "text/plain": [
       "{'ResponseMetadata': {'RequestId': '72CD2D496211AAAE',\n",
       "  'HostId': '1g32Uv2VgmZb0e/pjZ4jIAJGP78QmLoo/kqaubY/fcelMCNLOCjDrcaH0yQPlAG3Vti/e5e091Y=',\n",
       "  'HTTPStatusCode': 200,\n",
       "  'HTTPHeaders': {'x-amz-id-2': '1g32Uv2VgmZb0e/pjZ4jIAJGP78QmLoo/kqaubY/fcelMCNLOCjDrcaH0yQPlAG3Vti/e5e091Y=',\n",
       "   'x-amz-request-id': '72CD2D496211AAAE',\n",
       "   'date': 'Sat, 23 Nov 2019 02:54:42 GMT',\n",
       "   'etag': '\"64d140d0a85a25198f7fff1c06d1310b\"',\n",
       "   'content-length': '0',\n",
       "   'server': 'AmazonS3'},\n",
       "  'RetryAttempts': 0},\n",
       " 'ETag': '\"64d140d0a85a25198f7fff1c06d1310b\"'}"
      ]
     },
     "execution_count": 13,
     "metadata": {},
     "output_type": "execute_result"
    }
   ],
   "source": [
    "#https://boto3.amazonaws.com/v1/documentation/api/latest/reference/services/s3.html#S3.Object.put\n",
    "s3.Object(bucket_name, document['key_name']).put(\n",
    "    ACL=put_ACL,\n",
    "    ContentLanguage=YAMLdata['lang'],\n",
    "    Metadata=put_Metadata,\n",
    "    Body=yamlDump(YAMLdata)\n",
    ")"
   ]
  },
  {
   "cell_type": "markdown",
   "metadata": {},
   "source": [
    "## Compile document"
   ]
  },
  {
   "cell_type": "code",
   "execution_count": 14,
   "metadata": {},
   "outputs": [
    {
     "name": "stdout",
     "output_type": "stream",
     "text": [
      "%YAML 1.2\n",
      "---\n",
      "title: '!'\n",
      "author: '!'\n",
      "abstract: '!'\n",
      "lang: en\n",
      "...\n",
      "\n"
     ]
    }
   ],
   "source": [
    "#print (yamlDump(YAMLdata))\n",
    "\n",
    "print (createPandocHeader(YAMLdata))"
   ]
  },
  {
   "cell_type": "code",
   "execution_count": 21,
   "metadata": {},
   "outputs": [
    {
     "name": "stdout",
     "output_type": "stream",
     "text": [
      "document['dir']=87/0e/4f/84/48/8765b6d5-0e32-4f73-844a-4884afc9aebc\n"
     ]
    },
    {
     "data": {
      "text/plain": [
       "{'base_name': '8765b6d5-0e32-4f73-844a-4884afc9aebc',\n",
       " 'file_prefix': '87/0e/4f/84/48/',\n",
       " 'dir': '87/0e/4f/84/48/8765b6d5-0e32-4f73-844a-4884afc9aebc',\n",
       " 'file_suffix': '.ymal',\n",
       " 'file_name': '8765b6d5-0e32-4f73-844a-4884afc9aebc.ymal',\n",
       " 'key_name': '87/0e/4f/84/48/8765b6d5-0e32-4f73-844a-4884afc9aebc.ymal'}"
      ]
     },
     "execution_count": 21,
     "metadata": {},
     "output_type": "execute_result"
    }
   ],
   "source": [
    "#fileNamePart(YAMLdata['id'])['key_name']\n",
    "fileNamePart(YAMLdata['id'])"
   ]
  },
  {
   "cell_type": "code",
   "execution_count": 28,
   "metadata": {},
   "outputs": [],
   "source": [
    "\n",
    "def createMarkDownDocument (srcData, depth):\n",
    "    document=''\n",
    "\n",
    "    if isinstance(srcData['body'], list):\n",
    "        print ('List detected')\n",
    "        \n",
    "        for element in srcData:\n",
    "            \n",
    "            if isinstance(element, list) or isinstance(element, dict):\n",
    "                print ('Structure detected - recursing')\n",
    "                results += generateDocumentBody (element, depth+1) #walk the next level down and increase the header depth\n",
    "                \n",
    "            elif re.search('.md$', element, flags=re.IGNORECASE):\n",
    "                print ('MarkDown: ' + element)\n",
    "\n",
    "                #read in the content\n",
    "                %run \"Functions_S3.ipynb\" # `downloadTextFile()` is located here\n",
    "                results = downloadTextFile (bucket_name, fileNamePart(YAMLdata['id'])['dir']+'/'+element)\n",
    "                \n",
    "            elif re.search('.yaml$', element, flags=re.IGNORECASE):\n",
    "                print ('YAML: ' + element)\n",
    "                #process the file\n",
    "                \n",
    "            elif is_valid_uuid(element):\n",
    "                print ('UUIDv4: ' + element)\n",
    "                #go find the file and then process the file\n",
    "                \n",
    "            else: #No idea what this is. Assuming its MD text\n",
    "                print ('unknown: ' + element)\n",
    "                results += element #assuming that if you are manually entering MD then you can control the formatting too\n",
    "                \n",
    "            document += '\\n\\n'\n",
    "                  \n",
    "    elif isinstance(srcData['body'], dict):\n",
    "        print ('Dict detected')\n",
    "        \n",
    "    else:\n",
    "        #print ('markdown:  no structure')\n",
    "        document += srcData['body']\n",
    "        \n",
    "    return (document)"
   ]
  },
  {
   "cell_type": "code",
   "execution_count": 29,
   "metadata": {},
   "outputs": [
    {
     "data": {
      "text/plain": [
       "'# Blank template\\n\\nPut your text here.\\n'"
      ]
     },
     "execution_count": 29,
     "metadata": {},
     "output_type": "execute_result"
    }
   ],
   "source": [
    "createMarkDownDocument (YAMLdata, 0)"
   ]
  },
  {
   "cell_type": "markdown",
   "metadata": {},
   "source": [
    "## Update the database"
   ]
  },
  {
   "cell_type": "markdown",
   "metadata": {},
   "source": [
    "The `contents.yaml` will be structured as follows:\n",
    "\n",
    "``` yaml\n",
    "id1:\n",
    "  record1\n",
    "id2:\n",
    "  record2\n",
    "idN:\n",
    "  recordN\n",
    "```\n",
    "\n",
    "Where 'id' is the ID of the file and 'record' contains all but 'body'"
   ]
  },
  {
   "cell_type": "code",
   "execution_count": null,
   "metadata": {},
   "outputs": [],
   "source": [
    "file_name='contents.yaml'"
   ]
  },
  {
   "cell_type": "markdown",
   "metadata": {},
   "source": [
    "### Format new record"
   ]
  },
  {
   "cell_type": "code",
   "execution_count": null,
   "metadata": {},
   "outputs": [],
   "source": [
    "#we dont want to save these in the DB file\n",
    "YAMLdata.pop('id',None)\n",
    "YAMLdata.pop('body',None) \n",
    "YAMLdata"
   ]
  },
  {
   "cell_type": "markdown",
   "metadata": {},
   "source": [
    "#### Fetch the object's URL"
   ]
  },
  {
   "cell_type": "code",
   "execution_count": null,
   "metadata": {},
   "outputs": [],
   "source": [
    "#https://boto3.amazonaws.com/v1/documentation/api/latest/guide/s3-presigned-urls.html\n",
    "#note that this is doing more then just fetching the URL\n",
    "#this is promising but is incomplete:  https://stackoverflow.com/a/48197877/12400492\n",
    "\n",
    "url = boto3.client('s3').generate_presigned_url('get_object',Params={'Bucket': bucket_name,'Key': document['key_name']},ExpiresIn=60*60*24)\n",
    "#print (url)\n",
    "\n",
    "YAMLdata['object_url'] = url.split('?')[0] #for now, just remove the extra stuff\n",
    "\n",
    "print (YAMLdata['object_url'])"
   ]
  },
  {
   "cell_type": "markdown",
   "metadata": {},
   "source": [
    "### Update the tracking DB with latest info"
   ]
  },
  {
   "cell_type": "code",
   "execution_count": null,
   "metadata": {},
   "outputs": [],
   "source": [
    "updateDatabase(bucket_name, file_name, document['base_name'], YAMLdata)"
   ]
  },
  {
   "cell_type": "code",
   "execution_count": null,
   "metadata": {},
   "outputs": [],
   "source": []
  }
 ],
 "metadata": {
  "kernelspec": {
   "display_name": "Python 3",
   "language": "python",
   "name": "python3"
  },
  "language_info": {
   "codemirror_mode": {
    "name": "ipython",
    "version": 3
   },
   "file_extension": ".py",
   "mimetype": "text/x-python",
   "name": "python",
   "nbconvert_exporter": "python",
   "pygments_lexer": "ipython3",
   "version": "3.6.8"
  },
  "toc-autonumbering": true
 },
 "nbformat": 4,
 "nbformat_minor": 4
}
